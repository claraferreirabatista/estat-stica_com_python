{
 "cells": [
  {
   "cell_type": "markdown",
   "metadata": {},
   "source": [
    "| Termo                 | Descrição                                                                                                                      |\n",
    "|-----------------------|--------------------------------------------------------------------------------------------------------------------------------|\n",
    "| Boxplot               | Um gráfico apresentado por Tukey como um modo rápido de visualizar a distribuição dos dados. Também é chamado de gráfico de caixa e capilar. |\n",
    "| Tabela de frequências | Um registro da contagem de valores numéricos de dados que caem em um conjunto de intervalos (colunas).                        |\n",
    "| Histograma            | Um gráfico da tabela de frequências com as colunas no eixo x e a contagem (ou proporção) no eixo y.                           |\n",
    "| Gráfico de densidade  | Uma versão simplificada do histograma, frequentemente usado em estimativas de densidade Kernel.                               |"
   ]
  },
  {
   "cell_type": "markdown",
   "metadata": {},
   "source": [
    "## Boxplot\n",
    "\n",
    "O Boxplot é um tipo de gráfico que ajuda a entender rapidamente como os dados estão distribuídos. Ele é formado por um retângulo, onde a linha do meio representa a mediana dos dados (o número que está no meio quando os dados são organizados em ordem crescente).\n",
    "\n",
    "A partir desse retângulo, desenhamos duas linhas: uma para cima e outra para baixo. A linha de cima vai até o valor mais alto que não ultrapassa um certo limite (chamamos isso de \"limite superior\"), enquanto a linha de baixo vai até o valor mais baixo que não fica abaixo de outro limite (chamado de \"limite inferior\").\n",
    "\n",
    "Os valores que ficam entre esses limites são considerados \"normais\". Os valores que ficam fora desses limites são marcados como pontos diferentes, geralmente com um asterisco, e podem ser considerados \"fora do comum\".\n",
    "\n",
    "Com o Boxplot, podemos entender:\n",
    "\n",
    "- O valor do meio (a mediana), que mostra onde a maioria dos dados está concentrada.\n",
    "- A dispersão dos dados, olhando para o tamanho do retângulo.\n",
    "- Se os dados estão mais concentrados em uma parte do gráfico ou se estão igualmente distribuídos.\n",
    "- Se existem valores que são muito diferentes dos outros (os \"outliers\").\n",
    "\n",
    "![BoxPlot](BoxPlot.png)\n",
    "\n",
    "Do ponto de vista estatístico, um outlier pode ser produto de um erro de observação ou de arredondamento."
   ]
  },
  {
   "cell_type": "markdown",
   "metadata": {},
   "source": [
    "## Tabela de Frequências e Histogramas\n",
    "\n",
    "Tanto as tabelas de frequências quanto os percentis resumem os dados por meio da criação de colunas. Em geral, os quartis e decis terão a mesma contagem em cada coluna (colunas de mesma contagem), mas os tamanhos das colunas serão diferentes. A tabela de frequências, por outro lado, terá contagens diferentes nas colunas (colunas de mesmo tamanho).\n",
    "\n",
    "Um histograma é um jeito de visualizar uma tabela de frequências, com as colunas no eixo x e a contagem de dados no eixo y.\n",
    "\n",
    "#### Momentos Estatísticos\n",
    "\n",
    "Em teoria estatística, a localização e a variabilidade são chamadas de primeiro e segundo momentos daquela distribuição. O terceiro e o quarto momentos são chamados de assimetria e curtose. A assimetria indica se um dado está inclinado a valores maiores ou menores, e a curtose indica a propensão dos dados a terem valores extremos. Geralmente, as métricas não são usadas para medir assimetria e curtose.\n"
   ]
  },
  {
   "cell_type": "markdown",
   "metadata": {},
   "source": [
    "Vários procedimentos estatísticos são baseados na suposição de que os dados provêm de uma distribuição normal (em forma de sino) ou então mais ou menos simétrica. Mas, em muitas situações de interesse prático, a distribuição dos dados da amostra é assimétrica e pode conter valores atípicos, como vimos em exemplos anteriores.\n",
    "Se quisermos utilizar tais procedimentos, o que se propõe é efetuar uma transfor- mação das observações, de modo a se obter uma distribuição mais simétrica e próxima da normal. Uma família de transformações frequentemente utilizada é\n",
    "da é\n",
    "\n",
    "![função x^p](transformacoes.png)\n",
    "\n",
    "Normalmente, o que se faz é experimentar valores de p na sequência\n",
    "\n",
    "... , -3, -2, -1, -1/2, -1/3, -1/4, 0, 1/4, 1/3, 1/2, 1, 2, 3, ...\n",
    "\n",
    "e para cada valor de p obtemos gráficos apropriados (histogramas, box plots etc.) para os dados originais e transformados, de modo a escolhermos o valor mais adequado de p.\n",
    "Vimos que, para dados positivos, a distribuição dos dados é usualmente assimétrica à direita. Para essas distribuições, a transformação acima com 0 < p < 1 é apropriada, pois valores grandes de x decrescem mais, relativamente a valores pequenos. Para dis- tribuições assimétricas à esquerda, tome p > 1\n",
    "\n",
    "![simetrias](simetrias.jpeg)\n",
    "\n",
    "![relacao_boxplot_e_histograma](relacao_boxplot_e_histograma.jpeg)\n",
    "\n",
    "### Resumo\n",
    "\n",
    "Um **histograma de frequências** registra contagens de frequências no eixo y e valores variáveis no eixo x. Isso dá uma ideia da distribuição dos dados de forma rápida.\n",
    "\n",
    "Uma **tabela de frequências** é uma versão tabular das contagens de frequências encontradas em um histograma.\n",
    "\n",
    "Um **boxplot** — com o topo e a base da caixa no 75° e 25° percentis, respectivamente — também dá uma ideia rápida da distribuição dos dados. Costuma ser usado em exibições lado a lado para comparar as distribuições.\n",
    "\n",
    "Um **gráfico de densidade** é a versão simplificada de um histograma. Precisa de uma função para estimar um gráfico com base nos dados (é possível fazer múltiplas estimativas, obviamente)."
   ]
  },
  {
   "cell_type": "markdown",
   "metadata": {},
   "source": [
    "# Explorando Dados Binários e Categóricos\n",
    "\n",
    "## Dados Categóricos\n",
    "\n",
    "- **Proporções ou Porcentagens:** Contagem do histórico dos dados.\n",
    "- **Termos-chave:**\n",
    "  - **Moda:** Categoria de maior ocorrência em um conjunto de dados.\n",
    "  - **Valor Esperado:** Média baseada na probabilidade de ocorrência de uma categoria associada a um valor numérico.\n",
    "  - **Gráficos de Barras:** Representação da frequência ou proporção de cada categoria por barras.\n",
    "  - **Gráficos de Pizza:** Representação da frequência ou proporção de cada categoria por fatias de uma pizza.\n",
    "\n",
    "## Resumo de Variáveis Categóricas\n",
    "\n",
    "Obter o resumo de uma variável binária ou categórica com poucas categorias é simples: encontrar a proporção de 1s ou das categorias importantes. Os dados categóricos são frequentemente resumidos em proporções e podem ser visualizados em gráficos de barras. As categorias podem representar diferentes itens (por exemplo, maçãs e laranjas, homem e mulher), os níveis de uma variável categórica (baixo, médio e alto) ou dados numéricos categorizados. O valor esperado é usado para resumir os níveis de uma variável de fator, sendo a soma dos valores multiplicados por sua probabilidade de ocorrência."
   ]
  }
 ],
 "metadata": {
  "language_info": {
   "name": "python"
  }
 },
 "nbformat": 4,
 "nbformat_minor": 2
}
