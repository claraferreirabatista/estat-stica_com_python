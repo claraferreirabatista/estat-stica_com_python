{
 "cells": [
  {
   "cell_type": "markdown",
   "metadata": {},
   "source": [
    "\n",
    "\n",
    "| Tópico                               | Características                                                                                                       | Sinônimos                                                |\n",
    "|---------------------------------------|------------------------------------------------------------------------------------------------------------------------|----------------------------------------------------------|\n",
    "| Desvios                               | A diferença entre os valores observados e a estimativa de localização. | erros, resíduos                                          |\n",
    "| Variância                             | A soma dos quadrados dos desvios da média, divididos por n – 1, onde n é o número de valores de dados. | erro médio quadrático                                    |\n",
    "| Desvio-padrão                         | A raiz quadrada da variância. | norma l2, norma Euclidiana                                |\n",
    "| Desvio absoluto médio                 | A média do valor absoluto dos desvios da média. | norma l1, norma Manhattan                                 |\n",
    "| Desvio absoluto mediano da mediana    | A mediana do valor absoluto dos desvios da mediana. | -                                                        |\n",
    "| Amplitude                            | A diferença entre o maior e o menor valor no conjunto de dados. | -                                                        |\n",
    "| Estatísticas ordinais                 | Métricas baseadas nos valores de dados classificados do menor ao maior. | classificações                                           |\n",
    "| Percentil                            | Valor tal que P por cento dos valores assumam esse valor ou menos, e (100 – P) por cento assumam esse valor ou mais.  | quantil                                                  |\n",
    "| Amplitude interquartílica            | A diferença entre o 75° percentil e o 25° percentil. | IQR                                                      |\n"
   ]
  },
  {
   "cell_type": "markdown",
   "metadata": {},
   "source": [
    "O desvio médio e a variância são definidos respectivamente por:\n",
    "\n",
    "![imagem.png](desvio_padrao_e_variancia.png)"
   ]
  },
  {
   "cell_type": "markdown",
   "metadata": {},
   "source": [
    "### ATENÇÃO:\n",
    "\n",
    "Sendo a variância uma medida de dimensão igual ao quadrado da dimensão, ou seja, as unidades de medidas serão elevadas ao quadrado, a variância pode causar problemas de interpretação. Por isso, costuma-se usar, então, o **desvio padrão**, que é definido como a raiz quadrada positiva da variância.\n",
    "Ambas as medidas de dispersão (desvio médio e desvio padrão) indicam, em média, qual será o “erro” (desvio) cometido ao tentar substituir cada observação pela medida resumo do conjunto de dados (no caso, a média).\n",
    "\n",
    "\n",
    "Tanto a média como o desvio padrão podem não ser medidas adequadas para representar um conjunto de dados, pois:\n",
    "    (a)\tsão afetados, de forma exagerada, por valores extremos(outliers);\n",
    "    (b) apenas com estes dois valores não temos ideia da simetria ou assimetria da distribuição dos dado\n",
    "\n",
    "A variância e o desvio-padrão são especialmente sensíveis aos outliers, pois são baseados em desvios quadráticos.\n",
    "\n",
    "### Quantis\n",
    "\n",
    "A medida mais básica é a amplitude: a diferença entre o maior e o menor número. É bom conhecer os valores máximos e mínimos, que são úteis na identificação dos outliers, mas a amplitude é extremamente sensível aos outliers e não é muito útil como medida geral da dispersão dos dados.\n",
    "\n",
    "Os percentis são medidas estatísticas utilizadas para avaliar a dispersão dos dados em um conjunto. Diferentemente da amplitude, que é sensível a outliers, os percentis oferecem uma abordagem mais robusta. Eles representam valores específicos em que uma determinada porcentagem dos dados é igual ou menor, enquanto o restante é igual ou maior.\n",
    "\n",
    "Um percentil comumente utilizado é o intervalo interquartil (IQR), que é a diferença entre o 25° e o 75° percentil. Esse intervalo é menos suscetível a valores extremos, proporcionando uma visão mais estável da variabilidade dos dados. Por exemplo, ao considerar o conjunto de dados 3, 1, 5, 3, 6, 7, 2, 9, o IQR é calculado como 6,5 - 2,5, resultando em 4.\n",
    "\n",
    "É importante observar que, para conjuntos de dados extensos, calcular os percentis exatos pode ser computacionalmente custoso. Portanto, são empregados algoritmos especiais, como Zhang-Wang-2007, para obter percentis aproximados de maneira eficiente.\n",
    "\n",
    "Além disso, é relevante mencionar que, em conjuntos de dados pares, a definição do percentil pode ser ambígua. Nesses casos, a média ponderada entre as estatísticas ordinais é frequentemente utilizada, com pesos variando entre 0 e 1. Softwares estatísticos oferecem diferentes abordagens para calcular percentis, mas em conjuntos de dados amplos, as discrepâncias costumam ser insignificantes.\n"
   ]
  },
  {
   "cell_type": "markdown",
   "metadata": {},
   "source": []
  }
 ],
 "metadata": {
  "language_info": {
   "name": "python"
  }
 },
 "nbformat": 4,
 "nbformat_minor": 2
}
