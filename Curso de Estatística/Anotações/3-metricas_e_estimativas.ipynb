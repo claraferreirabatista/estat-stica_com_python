{
 "cells": [
  {
   "cell_type": "markdown",
   "metadata": {},
   "source": [
    "| Termo              | Definição                                                                                   | Sinônimo                        |\n",
    "|--------------------|-----------------------------------------------------------------------------------------------|---------------------------------|\n",
    "| Média              | A soma de todos os valores, dividida pelo número de valores.                                 | Média aritmética simples        |\n",
    "| Média ponderada    | A soma de todos os valores, multiplicada por um peso e dividida pela soma dos pesos.           | Média aritmética ponderada      |\n",
    "| Mediana            | O valor que ocupa a posição central dos dados.                                               | 50° percentil                   |\n",
    "| Mediana ponderada  | Valor cuja posição está no centro da soma dos pesos, estando metade da soma antes e metade depois desse dado. | -                             |\n",
    "| Média aparada      | A média de todos os valores depois da exclusão de um número fixo de valores extremos.        | Média truncada                 |\n",
    "| Robusto            | Não sensível a valores extremos.                                                             | Resistente                     |\n",
    "| Outlier            | Um valor de dados que é muito diferente da maioria dos dados.                                | Valor extremo                  |\n"
   ]
  }
 ],
 "metadata": {
  "language_info": {
   "name": "python"
  }
 },
 "nbformat": 4,
 "nbformat_minor": 2
}
