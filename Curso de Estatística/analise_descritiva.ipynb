{
 "cells": [
  {
   "cell_type": "markdown",
   "metadata": {
    "colab_type": "text",
    "id": "WvMflodMjQKe"
   },
   "source": [
    "***\n",
    "# <font color=green size=10>CURSO DE ESTATÍSTICA - PARTE 1</font>\n",
    "***\n",
    "\n",
    "## Trabalho de Análise Descritiva de um Conjunto de Dados\n",
    "\n",
    "Utilizando os conhecimentos adquiridos em nosso treinamento realize uma análise descritiva básica de um conjunto de dados retirados da Pesquisa Nacional por Amostra de Domicílios - 2015 do IBGE. \n",
    "\n",
    "Vamos construir histogramas, calcular e avaliar medidas de tendência central, medidas separatrizes e de dispersão dos dados.\n",
    "\n",
    "Siga o roteiro proposto e vá completando as células vazias. Procure pensar em mais informações interessantes que podem ser exploradas em nosso dataset."
   ]
  },
  {
   "cell_type": "markdown",
   "metadata": {
    "colab_type": "text",
    "id": "cVgsZ_E3jQKg"
   },
   "source": [
    "# <font color=green>DATASET DO PROJETO</font>\n",
    "***"
   ]
  },
  {
   "cell_type": "markdown",
   "metadata": {
    "colab_type": "text",
    "id": "iN1gIbaKjQKh"
   },
   "source": [
    "### Pesquisa Nacional por Amostra de Domicílios - 2015\n",
    "\n",
    "A <b>Pesquisa Nacional por Amostra de Domicílios - PNAD</b> investiga anualmente, de forma permanente, características gerais da população, de educação, trabalho, rendimento e habitação e outras, com periodicidade variável, de acordo com as necessidades de informação para o país, como as características sobre migração, fecundidade, nupcialidade, saúde, segurança alimentar, entre outros temas. O levantamento dessas estatísticas constitui, ao longo dos 49 anos de realização da pesquisa, um importante instrumento para formulação, validação e avaliação de políticas orientadas para o desenvolvimento socioeconômico e a melhoria das condições de vida no Brasil."
   ]
  },
  {
   "cell_type": "markdown",
   "metadata": {
    "colab_type": "text",
    "id": "U6V7br1RjQKi"
   },
   "source": [
    "### Fonte dos Dados\n",
    "\n",
    "https://ww2.ibge.gov.br/home/estatistica/populacao/trabalhoerendimento/pnad2015/microdados.shtm"
   ]
  },
  {
   "cell_type": "markdown",
   "metadata": {
    "colab_type": "text",
    "id": "r0Fe_qnzjQKj"
   },
   "source": [
    "### Variáveis utilizadas\n",
    "\n",
    "> ### Renda\n",
    "> ***\n",
    "\n",
    "Rendimento mensal do trabalho principal para pessoas de 10 anos ou mais de idade.\n",
    "\n",
    "> ### Idade\n",
    "> ***\n",
    "\n",
    "Idade do morador na data de referência em anos.\n",
    "\n",
    "> ### Altura (elaboração própria)\n",
    "> ***\n",
    "\n",
    "Altura do morador em metros.\n",
    "\n",
    "> ### UF\n",
    "> ***\n",
    "\n",
    "|Código|Descrição|\n",
    "|---|---|\n",
    "|11|Rondônia|\n",
    "|12|Acre|\n",
    "|13|Amazonas|\n",
    "|14|Roraima|\n",
    "|15|Pará|\n",
    "|16|Amapá|\n",
    "|17|Tocantins|\n",
    "|21|Maranhão|\n",
    "|22|Piauí|\n",
    "|23|Ceará|\n",
    "|24|Rio Grande do Norte|\n",
    "|25|Paraíba|\n",
    "|26|Pernambuco|\n",
    "|27|Alagoas|\n",
    "|28|Sergipe|\n",
    "|29|Bahia|\n",
    "|31|Minas Gerais|\n",
    "|32|Espírito Santo|\n",
    "|33|Rio de Janeiro|\n",
    "|35|São Paulo|\n",
    "|41|Paraná|\n",
    "|42|Santa Catarina|\n",
    "|43|Rio Grande do Sul|\n",
    "|50|Mato Grosso do Sul|\n",
    "|51|Mato Grosso|\n",
    "|52|Goiás|\n",
    "|53|Distrito Federal|\n",
    "\n",
    "> ### Sexo\t\n",
    "> ***\n",
    "\n",
    "|Código|Descrição|\n",
    "|---|---|\n",
    "|0|Masculino|\n",
    "|1|Feminino|\n",
    "\n",
    "> ### Anos de Estudo\n",
    "> ***\n",
    "\n",
    "|Código|Descrição|\n",
    "|---|---|\n",
    "|1|Sem instrução e menos de 1 ano|\n",
    "|2|1 ano|\n",
    "|3|2 anos|\n",
    "|4|3 anos|\n",
    "|5|4 anos|\n",
    "|6|5 anos|\n",
    "|7|6 anos|\n",
    "|8|7 anos|\n",
    "|9|8 anos|\n",
    "|10|9 anos|\n",
    "|11|10 anos|\n",
    "|12|11 anos|\n",
    "|13|12 anos|\n",
    "|14|13 anos|\n",
    "|15|14 anos|\n",
    "|16|15 anos ou mais|\n",
    "|17|Não determinados| \n",
    "||Não aplicável|\n",
    "\n",
    "> ### Cor\n",
    "> ***\n",
    "\n",
    "|Código|Descrição|\n",
    "|---|---|\n",
    "|0|Indígena|\n",
    "|2|Branca|\n",
    "|4|Preta|\n",
    "|6|Amarela|\n",
    "|8|Parda|\n",
    "|9|Sem declaração|"
   ]
  },
  {
   "cell_type": "markdown",
   "metadata": {
    "colab_type": "text",
    "id": "OK1IQH5cX7Gb"
   },
   "source": [
    "#### <font color='red'>Observação</font>\n",
    "***\n",
    "> Os seguintes tratamentos foram realizados nos dados originais:\n",
    "> 1. Foram eliminados os registros onde a <b>Renda</b> era inválida (999 999 999 999);\n",
    "> 2. Foram eliminados os registros onde a <b>Renda</b> era missing;\n",
    "> 3. Foram considerados somente os registros das <b>Pessoas de Referência</b> de cada domicílio (responsável pelo domicílio)."
   ]
  },
  {
   "cell_type": "markdown",
   "metadata": {
    "colab_type": "text",
    "id": "ZIqLOffNTg1Y"
   },
   "source": [
    "***\n",
    "***"
   ]
  },
  {
   "cell_type": "markdown",
   "metadata": {
    "colab_type": "text",
    "id": "8Rw70V6ojQKk"
   },
   "source": [
    "### Utilize a célula abaixo para importar as biblioteca que precisar para executar as tarefas\n",
    "#### <font color='red'>Sugestões: pandas, numpy, seaborn</font>"
   ]
  },
  {
   "cell_type": "code",
   "execution_count": 1,
   "metadata": {
    "colab": {},
    "colab_type": "code",
    "id": "fcTgimHBybMz"
   },
   "outputs": [
    {
     "name": "stderr",
     "output_type": "stream",
     "text": [
      "/usr/lib/python3/dist-packages/scipy/__init__.py:146: UserWarning: A NumPy version >=1.17.3 and <1.25.0 is required for this version of SciPy (detected version 1.25.2\n",
      "  warnings.warn(f\"A NumPy version >={np_minversion} and <{np_maxversion}\"\n"
     ]
    }
   ],
   "source": [
    "import pandas as pd\n",
    "import numpy as np\n",
    "import seaborn as sns\n",
    "import matplotlib.pyplot as plt"
   ]
  },
  {
   "cell_type": "markdown",
   "metadata": {
    "colab_type": "text",
    "id": "2a-gvBvCULwt"
   },
   "source": [
    "### Importe o dataset e armazene o conteúdo em uma DataFrame"
   ]
  },
  {
   "cell_type": "code",
   "execution_count": 2,
   "metadata": {
    "colab": {},
    "colab_type": "code",
    "id": "ufRZ7TLwjQKo"
   },
   "outputs": [],
   "source": [
    "df = pd.read_csv(\"dados.csv\")"
   ]
  },
  {
   "cell_type": "markdown",
   "metadata": {
    "colab_type": "text",
    "id": "Oq3CKHCmTg1j"
   },
   "source": [
    "### Visualize o conteúdo do DataFrame"
   ]
  },
  {
   "cell_type": "code",
   "execution_count": 3,
   "metadata": {
    "colab": {},
    "colab_type": "code",
    "id": "GsC_WhLFjQKq",
    "scrolled": true
   },
   "outputs": [
    {
     "name": "stdout",
     "output_type": "stream",
     "text": [
      "   UF  Sexo  Idade  Cor  Anos de Estudo  Renda    Altura\n",
      "0  11     0     23    8              12    800  1.603808\n",
      "1  11     1     23    2              12   1150  1.739790\n",
      "2  11     1     35    8              15    880  1.760444\n",
      "3  11     0     46    2               6   3500  1.783158\n",
      "4  11     1     47    8               9    150  1.690631\n"
     ]
    },
    {
     "data": {
      "text/plain": [
       "(76840, 7)"
      ]
     },
     "execution_count": 3,
     "metadata": {},
     "output_type": "execute_result"
    }
   ],
   "source": [
    "print(df.head())\n",
    "df.shape"
   ]
  },
  {
   "cell_type": "markdown",
   "metadata": {
    "colab_type": "text",
    "id": "HDrFJQitTg1n"
   },
   "source": [
    "### Para avaliarmos o comportamento da variável RENDA vamos construir uma tabela de frequências considerando as seguintes classes em salários mínimos (SM)\n",
    "#### <font color='blue'>Descreva os pontos mais relevantes que você observa na tabela e no gráfico.</font>\n",
    "\n",
    "Classes de renda:\n",
    "\n",
    "<b>A</b> ► Acima de 25 SM\n",
    "\n",
    "<b>B</b> ► De 15 a 25 SM\n",
    "\n",
    "<b>C</b> ► De 5 a 15 SM\n",
    "\n",
    "<b>D</b> ► De 2 a 5 SM\n",
    "\n",
    "<b>E</b> ► Até 2 SM\n",
    "\n",
    "Para construir as classes de renda considere que o salário mínimo na época da pesquisa era de <b>R$ 788,00</b>.\n",
    "\n",
    "#### Siga os passos abaixo:"
   ]
  },
  {
   "cell_type": "markdown",
   "metadata": {
    "colab_type": "text",
    "id": "zJBkeGxiTg1o"
   },
   "source": [
    "### 1º Definir os intevalos das classes em reais (R$)\n",
    "### 2º Definir os labels das classes\n",
    "### 3º Construir a coluna de frequências"
   ]
  },
  {
   "cell_type": "code",
   "execution_count": 4,
   "metadata": {},
   "outputs": [
    {
     "name": "stdout",
     "output_type": "stream",
     "text": [
      "Frequência e Porcentagem (%) de cada classe de renda:\n",
      "        Frequencia  Porcentagem (%)\n",
      "Classe                             \n",
      "A              420         0.546590\n",
      "B              823         1.071057\n",
      "C             1568         2.040604\n",
      "D             5700         7.418011\n",
      "E            18972        24.690265\n",
      "F            34056        44.320666\n",
      "G            15301        19.912806\n",
      "\n",
      "Soma de todas as classes: 76840\n",
      "A soma de todas as classes coincide com o número de linhas do DataFrame.\n"
     ]
    }
   ],
   "source": [
    "# Definindo o valor do salário mínimo como base para determinar as classes de renda\n",
    "salario_minimo = 788.00\n",
    "\n",
    "# Definindo os intervalos que delimitam as classes sociais com base no salário mínimo\n",
    "# Cada intervalo representa uma faixa de renda, onde o primeiro intervalo vai de menos infinito até 1x o salário mínimo,\n",
    "# o segundo intervalo vai de 1x até 2x o salário mínimo, e assim por diante.\n",
    "intervalos = [\n",
    "    -float(\"inf\"),\n",
    "    salario_minimo,\n",
    "    2 * salario_minimo,\n",
    "    5 * salario_minimo,\n",
    "    10 * salario_minimo,\n",
    "    15 * salario_minimo,\n",
    "    25 * salario_minimo,\n",
    "    float(\"inf\"),\n",
    "]\n",
    "rotulos = [\"G\", \"F\", \"E\", \"D\", \"C\", \"B\", \"A\"]\n",
    "\n",
    "# Adicionando uma nova coluna chamada 'Classe' no DataFrame para representar as classes de renda\n",
    "# Utilizando a função pd.cut() para categorizar os valores da coluna \"Renda\" nos intervalos definidos, \n",
    "# atribuindo os rótulos correspondentes a cada intervalo\n",
    "df[\"Classe\"] = pd.cut(df[\"Renda\"], bins=intervalos, labels=rotulos, right=False)\n",
    "\n",
    "# Contagem do número de indivíduos em cada classe de renda\n",
    "# Utilizando o método value_counts() para contar a frequência de cada classe de renda no DataFrame\n",
    "frequencia_renda = df[\"Classe\"].value_counts()\n",
    "\n",
    "# Ordenando as classes de renda em ordem decrescente (de A a G)\n",
    "# Utilizando o método sort_index() para ordenar as classes de renda em ordem alfabética decrescente\n",
    "frequencia_renda = frequencia_renda.sort_index(ascending=False)\n",
    "\n",
    "# Calculando a porcentagem de indivíduos em cada classe de renda\n",
    "# Dividindo a frequência de cada classe pelo número total de linhas do DataFrame e multiplicando por 100\n",
    "total_linhas = df.shape[0]\n",
    "percentual = (frequencia_renda / total_linhas) * 100\n",
    "\n",
    "# Criando um DataFrame para armazenar a frequência e a porcentagem de cada classe de renda\n",
    "# Utilizando a função pd.DataFrame() para criar um novo DataFrame com as frequências e porcentagens calculadas\n",
    "distribuicao_de_frequencia_renda = pd.DataFrame({\"Frequencia\": frequencia_renda, \"Porcentagem (%)\": percentual})\n",
    "\n",
    "# Exibindo a distribuição de frequência das classes de renda\n",
    "print(\"Frequência e Porcentagem (%) de cada classe de renda:\")\n",
    "print(distribuicao_de_frequencia_renda)\n",
    "\n",
    "# Calculando a soma total das frequências das classes de renda\n",
    "# Utilizando o método sum() para somar todas as frequências das classes de renda\n",
    "soma_total_classes = frequencia_renda.sum()\n",
    "print(\"\\nSoma de todas as classes:\", soma_total_classes)\n",
    "\n",
    "# Verificando se a soma total das frequências coincide com o número total de linhas no DataFrame\n",
    "# Comparando a soma total das frequências com o número total de linhas do DataFrame e exibindo uma mensagem correspondente\n",
    "if soma_total_classes == total_linhas:\n",
    "    print(\"A soma de todas as classes coincide com o número de linhas do DataFrame.\")\n",
    "else:\n",
    "    print(\"A soma de todas as classes não coincide com o número de linhas do DataFrame. Verifique os dados ou o código.\")\n"
   ]
  },
  {
   "cell_type": "code",
   "execution_count": 5,
   "metadata": {},
   "outputs": [
    {
     "data": {
      "text/plain": [
       "(76840, 8)"
      ]
     },
     "execution_count": 5,
     "metadata": {},
     "output_type": "execute_result"
    }
   ],
   "source": [
    "df.shape"
   ]
  },
  {
   "cell_type": "code",
   "execution_count": 6,
   "metadata": {},
   "outputs": [
    {
     "data": {
      "text/plain": [
       "(7, 2)"
      ]
     },
     "execution_count": 6,
     "metadata": {},
     "output_type": "execute_result"
    }
   ],
   "source": [
    "distribuicao_de_frequencia_renda.shape"
   ]
  },
  {
   "cell_type": "markdown",
   "metadata": {},
   "source": [
    "### 4º Construir a coluna de percentuais\n",
    "### 5º Juntar as colunas de frequência e percentuais e ordenar as linhas de acordo com os labels das classes\n",
    "### 6º Construa um gráfico de barras para visualizar as informações da tabela de frequências acima"
   ]
  },
  {
   "cell_type": "code",
   "execution_count": 7,
   "metadata": {},
   "outputs": [
    {
     "name": "stderr",
     "output_type": "stream",
     "text": [
      "/home/clara/.local/lib/python3.10/site-packages/seaborn/categorical.py:641: FutureWarning: The default of observed=False is deprecated and will be changed to True in a future version of pandas. Pass observed=False to retain current behavior or observed=True to adopt the future default and silence this warning.\n",
      "  grouped_vals = vals.groupby(grouper)\n"
     ]
    },
    {
     "data": {
      "image/png": "[encoded data removed]",
      "text/plain": [
       "<Figure size 1000x600 with 1 Axes>"
      ]
     },
     "metadata": {},
     "output_type": "display_data"
    }
   ],
   "source": [
    "# Definindo o estilo do gráfico\n",
    "# Utilizando a função sns.set_style() para definir o estilo do gráfico como \"whitegrid\", que adiciona grades de fundo brancas ao gráfico\n",
    "sns.set_style(\"whitegrid\")\n",
    "\n",
    "# Criando o gráfico de barras\n",
    "# Utilizando a função plt.figure() para criar uma figura com o tamanho especificado (10 polegadas de largura por 6 polegadas de altura)\n",
    "# Utilizando a função sns.barplot() para criar o gráfico de barras com base nos dados do DataFrame distribuicao_de_frequencia_renda\n",
    "# O eixo x é definido como os índices do DataFrame (as classes de renda) e o eixo y como a coluna \"Porcentagem (%)\"\n",
    "plt.figure(figsize=(10, 6))\n",
    "sns.barplot(data=distribuicao_de_frequencia_renda, x=distribuicao_de_frequencia_renda.index, y=\"Porcentagem (%)\")\n",
    "\n",
    "# Adicionando rótulos e título\n",
    "# Utilizando as funções plt.xlabel(), plt.ylabel() e plt.title() para adicionar rótulos aos eixos x e y, e um título ao gráfico, respectivamente\n",
    "plt.xlabel('Classe de Renda')\n",
    "plt.ylabel('Porcentagem (%)')\n",
    "plt.title('Porcentagem de cada Classe de Renda')\n",
    "\n",
    "# Rotacionando os rótulos do eixo x para melhor visualização\n",
    "# Utilizando a função plt.xticks() para rotacionar os rótulos do eixo x em 45 graus para melhor legibilidade\n",
    "plt.xticks(rotation=45)\n",
    "\n",
    "# Exibindo o gráfico\n",
    "# Utilizando a função plt.show() para exibir o gráfico criado\n",
    "plt.show()\n"
   ]
  },
  {
   "cell_type": "markdown",
   "metadata": {},
   "source": [
    "        \"Decidi adicionar mais classes de renda devido à grande disparidade nos intervalos originais, buscando uma análise mais refinada. Além disso, implementei verificações adicionais e defini uma variável que pode ser ajustada conforme o salário mínimo do ano em estudo.\""
   ]
  },
  {
   "cell_type": "markdown",
   "metadata": {},
   "source": [
    "Com base nos dados fornecidos da Pesquisa Nacional por Amostra de Domicílios - 2015, sobre a distribuição de renda das famílias brasileiras, podemos destacar alguns insights:\n",
    "\n",
    "1. Desigualdade de renda: A distribuição da renda é bastante desigual, com uma grande concentração de famílias nas classes de menor renda (classes F e G), representando mais de 60% da amostra total.\n",
    "\n",
    "2. Classe de renda predominante: A classe F, que representa famílias com renda entre 1 e 2 salários mínimos, é a mais frequente, com mais de 44% da amostra total.\n",
    "\n",
    "3. Baixa representatividade das classes de renda mais alta: As classes A, B e C, que representam famílias com renda superior a 10 salários mínimos, juntas, representam menos de 5% da amostra total, evidenciando uma baixa representatividade de famílias com maior poder aquisitivo na pesquisa.\n",
    "\n",
    "4. Grande número de famílias com baixa renda: As classes E, F e G, que representam famílias com renda de até 5 salários mínimos, correspondem a mais de 88% da amostra total, indicando que a maioria das famílias pesquisadas possui uma renda considerada baixa.\n",
    "\n",
    "Esses insights sugerem a necessidade de políticas públicas voltadas para a redução da desigualdade de renda e para o aumento do acesso da população a oportunidades de melhoria socioeconômica, como educação, emprego e saúde."
   ]
  },
  {
   "cell_type": "markdown",
   "metadata": {
    "colab_type": "text",
    "id": "pnAH1T5fTg2F"
   },
   "source": [
    "### Para a variável RENDA, construa um histograma somente com as informações das pessoas com rendimento até R$ 20.000,00"
   ]
  },
  {
   "cell_type": "code",
   "execution_count": 8,
   "metadata": {},
   "outputs": [
    {
     "name": "stdout",
     "output_type": "stream",
     "text": [
      "Número de pessoas com renda menor que 20000: 76420\n"
     ]
    }
   ],
   "source": [
    "pessoas_renda_menor_20000 = df[df['Renda'] < 20000].shape[0]\n",
    "\n",
    "print(\"Número de pessoas com renda menor que 20000:\", pessoas_renda_menor_20000)"
   ]
  },
  {
   "cell_type": "markdown",
   "metadata": {
    "colab_type": "text",
    "id": "vvtzLOUKTg2H"
   },
   "source": [
    "### Construa uma tabela de frequências e uma com os percentuais do cruzando das variáveis SEXO e COR\n",
    "#### <font color='blue'>Avalie o resultado da tabela e escreva suas principais conclusões</font>\n",
    "#### <font color='red'>Utilize os dicionários abaixo para renomear as linha e colunas das tabelas de frequências e dos gráficos em nosso projeto</font>"
   ]
  },
  {
   "cell_type": "code",
   "execution_count": 9,
   "metadata": {
    "colab": {},
    "colab_type": "code",
    "id": "csL1jaeSTg2M"
   },
   "outputs": [
    {
     "data": {
      "text/html": [
       "<div>\n",
       "<style scoped>\n",
       "    .dataframe tbody tr th:only-of-type {\n",
       "        vertical-align: middle;\n",
       "    }\n",
       "\n",
       "    .dataframe tbody tr th {\n",
       "        vertical-align: top;\n",
       "    }\n",
       "\n",
       "    .dataframe thead th {\n",
       "        text-align: right;\n",
       "    }\n",
       "</style>\n",
       "<table border=\"1\" class=\"dataframe\">\n",
       "  <thead>\n",
       "    <tr style=\"text-align: right;\">\n",
       "      <th></th>\n",
       "      <th>UF</th>\n",
       "      <th>Sexo</th>\n",
       "      <th>Idade</th>\n",
       "      <th>Cor</th>\n",
       "      <th>Anos de Estudo</th>\n",
       "      <th>Renda</th>\n",
       "      <th>Altura</th>\n",
       "      <th>Classe</th>\n",
       "    </tr>\n",
       "  </thead>\n",
       "  <tbody>\n",
       "    <tr>\n",
       "      <th>0</th>\n",
       "      <td>Rondônia</td>\n",
       "      <td>Masculino</td>\n",
       "      <td>23</td>\n",
       "      <td>Parda</td>\n",
       "      <td>11 anos</td>\n",
       "      <td>800</td>\n",
       "      <td>1.603808</td>\n",
       "      <td>F</td>\n",
       "    </tr>\n",
       "    <tr>\n",
       "      <th>1</th>\n",
       "      <td>Rondônia</td>\n",
       "      <td>Feminino</td>\n",
       "      <td>23</td>\n",
       "      <td>Branca</td>\n",
       "      <td>11 anos</td>\n",
       "      <td>1150</td>\n",
       "      <td>1.739790</td>\n",
       "      <td>F</td>\n",
       "    </tr>\n",
       "    <tr>\n",
       "      <th>2</th>\n",
       "      <td>Rondônia</td>\n",
       "      <td>Feminino</td>\n",
       "      <td>35</td>\n",
       "      <td>Parda</td>\n",
       "      <td>14 anos</td>\n",
       "      <td>880</td>\n",
       "      <td>1.760444</td>\n",
       "      <td>F</td>\n",
       "    </tr>\n",
       "    <tr>\n",
       "      <th>3</th>\n",
       "      <td>Rondônia</td>\n",
       "      <td>Masculino</td>\n",
       "      <td>46</td>\n",
       "      <td>Branca</td>\n",
       "      <td>5 anos</td>\n",
       "      <td>3500</td>\n",
       "      <td>1.783158</td>\n",
       "      <td>E</td>\n",
       "    </tr>\n",
       "    <tr>\n",
       "      <th>4</th>\n",
       "      <td>Rondônia</td>\n",
       "      <td>Feminino</td>\n",
       "      <td>47</td>\n",
       "      <td>Parda</td>\n",
       "      <td>8 anos</td>\n",
       "      <td>150</td>\n",
       "      <td>1.690631</td>\n",
       "      <td>G</td>\n",
       "    </tr>\n",
       "    <tr>\n",
       "      <th>...</th>\n",
       "      <td>...</td>\n",
       "      <td>...</td>\n",
       "      <td>...</td>\n",
       "      <td>...</td>\n",
       "      <td>...</td>\n",
       "      <td>...</td>\n",
       "      <td>...</td>\n",
       "      <td>...</td>\n",
       "    </tr>\n",
       "    <tr>\n",
       "      <th>76835</th>\n",
       "      <td>Distrito Federal</td>\n",
       "      <td>Feminino</td>\n",
       "      <td>46</td>\n",
       "      <td>Branca</td>\n",
       "      <td>10 anos</td>\n",
       "      <td>812</td>\n",
       "      <td>1.687030</td>\n",
       "      <td>F</td>\n",
       "    </tr>\n",
       "    <tr>\n",
       "      <th>76836</th>\n",
       "      <td>Distrito Federal</td>\n",
       "      <td>Masculino</td>\n",
       "      <td>30</td>\n",
       "      <td>Preta</td>\n",
       "      <td>6 anos</td>\n",
       "      <td>1500</td>\n",
       "      <td>1.792934</td>\n",
       "      <td>F</td>\n",
       "    </tr>\n",
       "    <tr>\n",
       "      <th>76837</th>\n",
       "      <td>Distrito Federal</td>\n",
       "      <td>Masculino</td>\n",
       "      <td>32</td>\n",
       "      <td>Parda</td>\n",
       "      <td>11 anos</td>\n",
       "      <td>1300</td>\n",
       "      <td>1.830587</td>\n",
       "      <td>F</td>\n",
       "    </tr>\n",
       "    <tr>\n",
       "      <th>76838</th>\n",
       "      <td>Distrito Federal</td>\n",
       "      <td>Masculino</td>\n",
       "      <td>57</td>\n",
       "      <td>Parda</td>\n",
       "      <td>3 anos</td>\n",
       "      <td>1500</td>\n",
       "      <td>1.726344</td>\n",
       "      <td>F</td>\n",
       "    </tr>\n",
       "    <tr>\n",
       "      <th>76839</th>\n",
       "      <td>Distrito Federal</td>\n",
       "      <td>Masculino</td>\n",
       "      <td>38</td>\n",
       "      <td>Parda</td>\n",
       "      <td>3 anos</td>\n",
       "      <td>900</td>\n",
       "      <td>1.658305</td>\n",
       "      <td>F</td>\n",
       "    </tr>\n",
       "  </tbody>\n",
       "</table>\n",
       "<p>76840 rows × 8 columns</p>\n",
       "</div>"
      ],
      "text/plain": [
       "                     UF       Sexo  Idade     Cor Anos de Estudo  Renda  \\\n",
       "0              Rondônia  Masculino     23   Parda        11 anos    800   \n",
       "1              Rondônia   Feminino     23  Branca        11 anos   1150   \n",
       "2              Rondônia   Feminino     35   Parda        14 anos    880   \n",
       "3              Rondônia  Masculino     46  Branca         5 anos   3500   \n",
       "4              Rondônia   Feminino     47   Parda         8 anos    150   \n",
       "...                 ...        ...    ...     ...            ...    ...   \n",
       "76835  Distrito Federal   Feminino     46  Branca        10 anos    812   \n",
       "76836  Distrito Federal  Masculino     30   Preta         6 anos   1500   \n",
       "76837  Distrito Federal  Masculino     32   Parda        11 anos   1300   \n",
       "76838  Distrito Federal  Masculino     57   Parda         3 anos   1500   \n",
       "76839  Distrito Federal  Masculino     38   Parda         3 anos    900   \n",
       "\n",
       "         Altura Classe  \n",
       "0      1.603808      F  \n",
       "1      1.739790      F  \n",
       "2      1.760444      F  \n",
       "3      1.783158      E  \n",
       "4      1.690631      G  \n",
       "...         ...    ...  \n",
       "76835  1.687030      F  \n",
       "76836  1.792934      F  \n",
       "76837  1.830587      F  \n",
       "76838  1.726344      F  \n",
       "76839  1.658305      F  \n",
       "\n",
       "[76840 rows x 8 columns]"
      ]
     },
     "execution_count": 9,
     "metadata": {},
     "output_type": "execute_result"
    }
   ],
   "source": [
    "# Dicionário de mapeamento para os valores de sexo, onde 0 representa \"Masculino\" e 1 representa \"Feminino\"\n",
    "Sexo = {0: \"Masculino\", 1: \"Feminino\"}\n",
    "\n",
    "# Dicionário de mapeamento para os valores de cor, onde os números representam diferentes categorias de cor\n",
    "Cor = {\n",
    "    0: \"Indígena\",\n",
    "    2: \"Branca\",\n",
    "    4: \"Preta\",\n",
    "    6: \"Amarela\",\n",
    "    8: \"Parda\",\n",
    "    9: \"Sem declaração\",\n",
    "}\n",
    "\n",
    "# Dicionário de mapeamento para os anos de estudo, onde cada número representa uma categoria de anos de estudo\n",
    "Anos_de_Estudo = {\n",
    "    1: \"Sem instrução e menos de 1 ano\",\n",
    "    2: \"1 ano\",\n",
    "    3: \"2 anos\",\n",
    "    4: \"3 anos\",\n",
    "    5: \"4 anos\",\n",
    "    6: \"5 anos\",\n",
    "    7: \"6 anos\",\n",
    "    8: \"7 anos\",\n",
    "    9: \"8 anos\",\n",
    "    10: \"9 anos\",\n",
    "    11: \"10 anos\",\n",
    "    12: \"11 anos\",\n",
    "    13: \"12 anos\",\n",
    "    14: \"13 anos\",\n",
    "    15: \"14 anos\",\n",
    "    16: \"15 anos ou mais\",\n",
    "    17: \"Não determinados\",\n",
    "}\n",
    "\n",
    "# Dicionário de mapeamento para os valores de UF (Unidades Federativas), onde os números representam os códigos de cada estado\n",
    "UF = {\n",
    "    11: \"Rondônia\",\n",
    "    12: \"Acre\",\n",
    "    13: \"Amazonas\",\n",
    "    14: \"Roraima\",\n",
    "    15: \"Pará\",\n",
    "    16: \"Amapá\",\n",
    "    17: \"Tocantins\",\n",
    "    21: \"Maranhão\",\n",
    "    22: \"Piauí\",\n",
    "    23: \"Ceará\",\n",
    "    24: \"Rio Grande do Norte\",\n",
    "    25: \"Paraíba\",\n",
    "    26: \"Pernambuco\",\n",
    "    27: \"Alagoas\",\n",
    "    28: \"Sergipe\",\n",
    "    29: \"Bahia\",\n",
    "    31: \"Minas Gerais\",\n",
    "    32: \"Espírito Santo\",\n",
    "    33: \"Rio de Janeiro\",\n",
    "    35: \"São Paulo\",\n",
    "    41: \"Paraná\",\n",
    "    42: \"Santa Catarina\",\n",
    "    43: \"Rio Grande do Sul\",\n",
    "    50: \"Mato Grosso do Sul\",\n",
    "    51: \"Mato Grosso\",\n",
    "    52: \"Goiás\",\n",
    "    53: \"Distrito Federal\",\n",
    "}\n",
    "\n",
    "# Edição do DataFrame original para criar um novo DataFrame modificado\n",
    "df_modificado = df.copy()\n",
    "\n",
    "# Mapeamento das colunas Sexo, Cor, Anos de Estudo e UF com base nos dicionários de mapeamento definidos acima\n",
    "df_modificado[\"Sexo\"] = df_modificado[\"Sexo\"].map(Sexo)\n",
    "df_modificado[\"Cor\"] = df_modificado[\"Cor\"].map(Cor)\n",
    "df_modificado[\"Anos de Estudo\"] = df_modificado[\"Anos de Estudo\"].map(Anos_de_Estudo)\n",
    "df_modificado[\"UF\"] = df_modificado[\"UF\"].map(UF)\n",
    "\n",
    "# Exibição do DataFrame modificado com as colunas de Sexo e UF mapeadas\n",
    "df_modificado"
   ]
  },
  {
   "cell_type": "code",
   "execution_count": 10,
   "metadata": {},
   "outputs": [
    {
     "name": "stdout",
     "output_type": "stream",
     "text": [
      "UF\n",
      "São Paulo              8544\n",
      "Minas Gerais           7686\n",
      "Rio Grande do Sul      6322\n",
      "Bahia                  5717\n",
      "Rio de Janeiro         5556\n",
      "Pará                   4449\n",
      "Paraná                 4356\n",
      "Pernambuco             3820\n",
      "Goiás                  3478\n",
      "Ceará                  3359\n",
      "Santa Catarina         2275\n",
      "Amazonas               2206\n",
      "Distrito Federal       2054\n",
      "Mato Grosso            1800\n",
      "Maranhão               1787\n",
      "Rondônia               1537\n",
      "Espírito Santo         1511\n",
      "Mato Grosso do Sul     1440\n",
      "Tocantins              1306\n",
      "Sergipe                1287\n",
      "Paraíba                1274\n",
      "Piauí                  1211\n",
      "Rio Grande do Norte     973\n",
      "Acre                    937\n",
      "Alagoas                 903\n",
      "Roraima                 540\n",
      "Amapá                   512\n",
      "Name: count, dtype: int64\n"
     ]
    }
   ],
   "source": [
    "# Lista dos estados brasileiros contendo os nomes de cada estado\n",
    "estados_brasileiros = [\n",
    "    \"Rondônia\", \"Acre\", \"Amazonas\", \"Roraima\", \"Pará\", \"Amapá\", \"Tocantins\",\n",
    "    \"Maranhão\", \"Piauí\", \"Ceará\", \"Rio Grande do Norte\", \"Paraíba\", \"Pernambuco\",\n",
    "    \"Alagoas\", \"Sergipe\", \"Bahia\", \"Minas Gerais\", \"Espírito Santo\", \"Rio de Janeiro\",\n",
    "    \"São Paulo\", \"Paraná\", \"Santa Catarina\", \"Rio Grande do Sul\", \"Mato Grosso do Sul\",\n",
    "    \"Mato Grosso\", \"Goiás\", \"Distrito Federal\"\n",
    "]\n",
    "\n",
    "# Filtragem do DataFrame modificado para incluir apenas os estados brasileiros presentes na lista estados_brasileiros\n",
    "filtro_estados_brasileiros = df_modificado[df_modificado['UF'].isin(estados_brasileiros)]\n",
    "\n",
    "# Contagem do número de indivíduos em cada estado brasileiro\n",
    "contagem_por_estado = filtro_estados_brasileiros['UF'].value_counts()\n",
    "\n",
    "# Exibição do resultado da contagem de indivíduos em cada estado brasileiro\n",
    "print(contagem_por_estado)"
   ]
  },
  {
   "cell_type": "code",
   "execution_count": 11,
   "metadata": {},
   "outputs": [
    {
     "data": {
      "image/png": "[encoded data removed]",
      "text/plain": [
       "<Figure size 1200x600 with 1 Axes>"
      ]
     },
     "metadata": {},
     "output_type": "display_data"
    }
   ],
   "source": [
    "# Definição das cores a serem utilizadas para representar cada estado no gráfico\n",
    "cores = [\n",
    "    \"blue\",\n",
    "    \"green\",\n",
    "    \"red\",\n",
    "    \"cyan\",\n",
    "    \"magenta\",\n",
    "    \"yellow\",\n",
    "    \"orange\",\n",
    "    \"purple\",\n",
    "    \"brown\",\n",
    "    \"pink\",\n",
    "    \"gray\",\n",
    "    \"olive\",\n",
    "    \"lime\",\n",
    "    \"teal\",\n",
    "    \"lavender\",\n",
    "    \"salmon\",\n",
    "    \"peru\",\n",
    "    \"tan\",\n",
    "    \"gold\",\n",
    "    \"indigo\",\n",
    "    \"maroon\",\n",
    "    \"plum\",\n",
    "    \"orchid\",\n",
    "    \"turquoise\",\n",
    "    \"aqua\",\n",
    "    \"coral\",\n",
    "    \"steelblue\",\n",
    "]\n",
    "\n",
    "# Cálculo dos valores percentuais de participação de cada estado em relação ao total\n",
    "total = contagem_por_estado.sum()\n",
    "percentuais = (contagem_por_estado / total) * 100\n",
    "\n",
    "# Criação da figura e dos eixos do gráfico, com tamanho ajustável\n",
    "fig, ax = plt.subplots(figsize=(12, 6))\n",
    "\n",
    "# Plotagem do histograma, utilizando cores diferentes para cada barra e exibindo os valores percentuais\n",
    "bars = percentuais.plot(kind=\"bar\", ax=ax, color=cores)\n",
    "\n",
    "# Adição dos valores percentuais acima de cada barra do gráfico\n",
    "for bar in bars.patches:\n",
    "    ax.annotate(\n",
    "        \"{:.2f}%\".format(bar.get_height()),\n",
    "        xy=(bar.get_x() + bar.get_width() / 2, bar.get_height()),\n",
    "        xytext=(0, 3),\n",
    "        textcoords=\"offset points\",\n",
    "        ha=\"center\",\n",
    "        va=\"bottom\",\n",
    "    )\n",
    "\n",
    "# Definição do título e dos rótulos dos eixos do gráfico\n",
    "ax.set_title(\n",
    "    \"Percentual de Indivíduos Entrevistados por Estado Brasileiro na Pesquisa Nacional por Amostra de Domicílios\"\n",
    ")\n",
    "ax.set_xlabel(\"Estado\")\n",
    "ax.set_ylabel(\"Percentual\")\n",
    "\n",
    "# Rotação dos rótulos do eixo x para melhor visualização\n",
    "plt.xticks(rotation=90)\n",
    "\n",
    "# Exibição do gráfico\n",
    "plt.tight_layout()\n",
    "plt.show()"
   ]
  },
  {
   "cell_type": "code",
   "execution_count": 12,
   "metadata": {},
   "outputs": [
    {
     "data": {
      "image/png": "[encoded data removed]",
      "text/plain": [
       "<Figure size 640x480 with 1 Axes>"
      ]
     },
     "metadata": {},
     "output_type": "display_data"
    }
   ],
   "source": [
    "# Cálculo da frequência de cada sexo presente no DataFrame modificado\n",
    "frequencia_por_sexo = df_modificado['Sexo'].value_counts()\n",
    "\n",
    "# Cálculo do total de indivíduos no DataFrame\n",
    "total_individuos = df_modificado.shape[0]\n",
    "\n",
    "# Cálculo da frequência em percentual de cada sexo\n",
    "percentual_por_sexo = (frequencia_por_sexo / total_individuos) * 100\n",
    "\n",
    "# Criação da figura e dos eixos do gráfico\n",
    "fig, ax = plt.subplots()\n",
    "\n",
    "# Plotagem do gráfico de linha, representando os valores percentuais de cada sexo\n",
    "percentual_por_sexo.plot(kind='line', ax=ax, marker='o', color='green')\n",
    "\n",
    "# Definição do título e dos rótulos dos eixos do gráfico\n",
    "ax.set_title('Frequência de Indivíduos por Sexo')\n",
    "ax.set_xlabel('Sexo')\n",
    "ax.set_ylabel('Percentual')\n",
    "\n",
    "# Definição dos rótulos do eixo x para melhor representação (\"Masculino\" e \"Feminino\")\n",
    "plt.xticks([0, 1], ['Masculino', 'Feminino'])\n",
    "\n",
    "# Exibição dos valores em cada ponto da linha do gráfico\n",
    "for i, v in enumerate(percentual_por_sexo):\n",
    "    ax.text(i, v + 0.5, f\"{v:.2f}%\", ha='center')\n",
    "\n",
    "# Exibição do gráfico com layout ajustado e grade habilitada\n",
    "plt.tight_layout()\n",
    "plt.grid(True)\n",
    "plt.show()\n"
   ]
  },
  {
   "cell_type": "code",
   "execution_count": 13,
   "metadata": {},
   "outputs": [
    {
     "data": {
      "text/html": [
       "<div>\n",
       "<style scoped>\n",
       "    .dataframe tbody tr th:only-of-type {\n",
       "        vertical-align: middle;\n",
       "    }\n",
       "\n",
       "    .dataframe tbody tr th {\n",
       "        vertical-align: top;\n",
       "    }\n",
       "\n",
       "    .dataframe thead th {\n",
       "        text-align: right;\n",
       "    }\n",
       "</style>\n",
       "<table border=\"1\" class=\"dataframe\">\n",
       "  <thead>\n",
       "    <tr style=\"text-align: right;\">\n",
       "      <th></th>\n",
       "      <th>UF</th>\n",
       "      <th>Sexo</th>\n",
       "      <th>Idade</th>\n",
       "      <th>Cor</th>\n",
       "      <th>Anos de Estudo</th>\n",
       "      <th>Renda</th>\n",
       "      <th>Altura</th>\n",
       "      <th>Classe</th>\n",
       "      <th>Faixa Etária</th>\n",
       "    </tr>\n",
       "  </thead>\n",
       "  <tbody>\n",
       "    <tr>\n",
       "      <th>0</th>\n",
       "      <td>Rondônia</td>\n",
       "      <td>Masculino</td>\n",
       "      <td>23</td>\n",
       "      <td>Parda</td>\n",
       "      <td>11 anos</td>\n",
       "      <td>800</td>\n",
       "      <td>1.603808</td>\n",
       "      <td>F</td>\n",
       "      <td>Jovens</td>\n",
       "    </tr>\n",
       "    <tr>\n",
       "      <th>1</th>\n",
       "      <td>Rondônia</td>\n",
       "      <td>Feminino</td>\n",
       "      <td>23</td>\n",
       "      <td>Branca</td>\n",
       "      <td>11 anos</td>\n",
       "      <td>1150</td>\n",
       "      <td>1.739790</td>\n",
       "      <td>F</td>\n",
       "      <td>Jovens</td>\n",
       "    </tr>\n",
       "    <tr>\n",
       "      <th>2</th>\n",
       "      <td>Rondônia</td>\n",
       "      <td>Feminino</td>\n",
       "      <td>35</td>\n",
       "      <td>Parda</td>\n",
       "      <td>14 anos</td>\n",
       "      <td>880</td>\n",
       "      <td>1.760444</td>\n",
       "      <td>F</td>\n",
       "      <td>Jovens Adultos</td>\n",
       "    </tr>\n",
       "    <tr>\n",
       "      <th>3</th>\n",
       "      <td>Rondônia</td>\n",
       "      <td>Masculino</td>\n",
       "      <td>46</td>\n",
       "      <td>Branca</td>\n",
       "      <td>5 anos</td>\n",
       "      <td>3500</td>\n",
       "      <td>1.783158</td>\n",
       "      <td>E</td>\n",
       "      <td>Meia Idade</td>\n",
       "    </tr>\n",
       "    <tr>\n",
       "      <th>4</th>\n",
       "      <td>Rondônia</td>\n",
       "      <td>Feminino</td>\n",
       "      <td>47</td>\n",
       "      <td>Parda</td>\n",
       "      <td>8 anos</td>\n",
       "      <td>150</td>\n",
       "      <td>1.690631</td>\n",
       "      <td>G</td>\n",
       "      <td>Meia Idade</td>\n",
       "    </tr>\n",
       "    <tr>\n",
       "      <th>...</th>\n",
       "      <td>...</td>\n",
       "      <td>...</td>\n",
       "      <td>...</td>\n",
       "      <td>...</td>\n",
       "      <td>...</td>\n",
       "      <td>...</td>\n",
       "      <td>...</td>\n",
       "      <td>...</td>\n",
       "      <td>...</td>\n",
       "    </tr>\n",
       "    <tr>\n",
       "      <th>76835</th>\n",
       "      <td>Distrito Federal</td>\n",
       "      <td>Feminino</td>\n",
       "      <td>46</td>\n",
       "      <td>Branca</td>\n",
       "      <td>10 anos</td>\n",
       "      <td>812</td>\n",
       "      <td>1.687030</td>\n",
       "      <td>F</td>\n",
       "      <td>Meia Idade</td>\n",
       "    </tr>\n",
       "    <tr>\n",
       "      <th>76836</th>\n",
       "      <td>Distrito Federal</td>\n",
       "      <td>Masculino</td>\n",
       "      <td>30</td>\n",
       "      <td>Preta</td>\n",
       "      <td>6 anos</td>\n",
       "      <td>1500</td>\n",
       "      <td>1.792934</td>\n",
       "      <td>F</td>\n",
       "      <td>Jovens Adultos</td>\n",
       "    </tr>\n",
       "    <tr>\n",
       "      <th>76837</th>\n",
       "      <td>Distrito Federal</td>\n",
       "      <td>Masculino</td>\n",
       "      <td>32</td>\n",
       "      <td>Parda</td>\n",
       "      <td>11 anos</td>\n",
       "      <td>1300</td>\n",
       "      <td>1.830587</td>\n",
       "      <td>F</td>\n",
       "      <td>Jovens Adultos</td>\n",
       "    </tr>\n",
       "    <tr>\n",
       "      <th>76838</th>\n",
       "      <td>Distrito Federal</td>\n",
       "      <td>Masculino</td>\n",
       "      <td>57</td>\n",
       "      <td>Parda</td>\n",
       "      <td>3 anos</td>\n",
       "      <td>1500</td>\n",
       "      <td>1.726344</td>\n",
       "      <td>F</td>\n",
       "      <td>Meia Idade</td>\n",
       "    </tr>\n",
       "    <tr>\n",
       "      <th>76839</th>\n",
       "      <td>Distrito Federal</td>\n",
       "      <td>Masculino</td>\n",
       "      <td>38</td>\n",
       "      <td>Parda</td>\n",
       "      <td>3 anos</td>\n",
       "      <td>900</td>\n",
       "      <td>1.658305</td>\n",
       "      <td>F</td>\n",
       "      <td>Jovens Adultos</td>\n",
       "    </tr>\n",
       "  </tbody>\n",
       "</table>\n",
       "<p>76840 rows × 9 columns</p>\n",
       "</div>"
      ],
      "text/plain": [
       "                     UF       Sexo  Idade     Cor Anos de Estudo  Renda  \\\n",
       "0              Rondônia  Masculino     23   Parda        11 anos    800   \n",
       "1              Rondônia   Feminino     23  Branca        11 anos   1150   \n",
       "2              Rondônia   Feminino     35   Parda        14 anos    880   \n",
       "3              Rondônia  Masculino     46  Branca         5 anos   3500   \n",
       "4              Rondônia   Feminino     47   Parda         8 anos    150   \n",
       "...                 ...        ...    ...     ...            ...    ...   \n",
       "76835  Distrito Federal   Feminino     46  Branca        10 anos    812   \n",
       "76836  Distrito Federal  Masculino     30   Preta         6 anos   1500   \n",
       "76837  Distrito Federal  Masculino     32   Parda        11 anos   1300   \n",
       "76838  Distrito Federal  Masculino     57   Parda         3 anos   1500   \n",
       "76839  Distrito Federal  Masculino     38   Parda         3 anos    900   \n",
       "\n",
       "         Altura Classe    Faixa Etária  \n",
       "0      1.603808      F          Jovens  \n",
       "1      1.739790      F          Jovens  \n",
       "2      1.760444      F  Jovens Adultos  \n",
       "3      1.783158      E      Meia Idade  \n",
       "4      1.690631      G      Meia Idade  \n",
       "...         ...    ...             ...  \n",
       "76835  1.687030      F      Meia Idade  \n",
       "76836  1.792934      F  Jovens Adultos  \n",
       "76837  1.830587      F  Jovens Adultos  \n",
       "76838  1.726344      F      Meia Idade  \n",
       "76839  1.658305      F  Jovens Adultos  \n",
       "\n",
       "[76840 rows x 9 columns]"
      ]
     },
     "execution_count": 13,
     "metadata": {},
     "output_type": "execute_result"
    }
   ],
   "source": [
    "def atribuir_classe_faixa_etaria(idade):\n",
    "    if idade < 18:\n",
    "        return 'Menores de Idade'\n",
    "    elif idade < 25:\n",
    "        return 'Jovens'\n",
    "    elif idade < 45:\n",
    "        return 'Jovens Adultos'\n",
    "    elif idade < 65:\n",
    "        return 'Meia Idade'\n",
    "    else:\n",
    "        return 'Idosos'\n",
    "\n",
    "def criar_coluna_faixa_etaria(df):\n",
    "    df['Faixa Etária'] = df['Idade'].apply(atribuir_classe_faixa_etaria)\n",
    "    return df\n",
    "\n",
    "# Exemplo de uso:\n",
    "# Supondo que df_modificado é o seu DataFrame com a coluna 'Idade'\n",
    "# Substitua df_modificado pelo nome correto do seu DataFrame\n",
    "df_modificado = criar_coluna_faixa_etaria(df_modificado)\n",
    "df_modificado\n"
   ]
  },
  {
   "cell_type": "code",
   "execution_count": 14,
   "metadata": {},
   "outputs": [],
   "source": [
    "def calcular_percentual_faixa_etaria(df_modificado):\n",
    "    total_entrevistados = len(df_modificado)  # Corrigido para calcular o total de entrevistados com base no comprimento do DataFrame\n",
    "    frequencia_faixa_etaria = df_modificado['Faixa Etária'].value_counts().reset_index()\n",
    "    frequencia_faixa_etaria.columns = ['Faixa Etária', 'Frequência']\n",
    "    frequencia_faixa_etaria['Percentual'] = (frequencia_faixa_etaria['Frequência'] / total_entrevistados) * 100\n",
    "    return frequencia_faixa_etaria\n",
    "# Substitua df_modificado pelo nome correto do seu DataFrame\n",
    "frequencia_faixa_etaria = calcular_percentual_faixa_etaria(df_modificado)"
   ]
  },
  {
   "cell_type": "code",
   "execution_count": 15,
   "metadata": {},
   "outputs": [
    {
     "name": "stdout",
     "output_type": "stream",
     "text": [
      "Frequência de Faixas Etárias:\n",
      "-----------------------------\n",
      "A faixa etária de Jovens Adultos é de 25 a 45 anos, nessa pesquisa foram entrevistados \u001b[1m37375\u001b[0m indivíduos.\n",
      "A faixa etária de Meia Idade é de 45 a 65 anos, nessa pesquisa foram entrevistados \u001b[1m31801\u001b[0m indivíduos.\n",
      "A faixa etária de Idosos é acima de 65 anos, nessa pesquisa foram entrevistados \u001b[1m4322\u001b[0m indivíduos.\n",
      "A faixa etária de Jovens é de 18 a 25 anos, nessa pesquisa foram entrevistados \u001b[1m3275\u001b[0m indivíduos.\n",
      "A faixa etária de Menores de Idade é de 0 a 18 anos, nessa pesquisa foram entrevistados \u001b[1m67\u001b[0m indivíduos.\n",
      "-----------------------------\n"
     ]
    }
   ],
   "source": [
    "def print_frequencia_faixa_etaria(frequencia_faixa_etaria):\n",
    "    print(\"Frequência de Faixas Etárias:\")\n",
    "    print(\"-----------------------------\")\n",
    "    for index, row in frequencia_faixa_etaria.iterrows():\n",
    "        faixa_etaria = row['Faixa Etária']\n",
    "        frequencia = row['Frequência']\n",
    "        if faixa_etaria == 'Menores de Idade':\n",
    "            print(f\"A faixa etária de {faixa_etaria} é de 0 a 18 anos, nessa pesquisa foram entrevistados \\033[1m{frequencia}\\033[0m indivíduos.\")\n",
    "        elif faixa_etaria == 'Jovens':\n",
    "            print(f\"A faixa etária de {faixa_etaria} é de 18 a 25 anos, nessa pesquisa foram entrevistados \\033[1m{frequencia}\\033[0m indivíduos.\")\n",
    "        elif faixa_etaria == 'Jovens Adultos':\n",
    "            print(f\"A faixa etária de {faixa_etaria} é de 25 a 45 anos, nessa pesquisa foram entrevistados \\033[1m{frequencia}\\033[0m indivíduos.\")\n",
    "        elif faixa_etaria == 'Meia Idade':\n",
    "            print(f\"A faixa etária de {faixa_etaria} é de 45 a 65 anos, nessa pesquisa foram entrevistados \\033[1m{frequencia}\\033[0m indivíduos.\")\n",
    "        else:\n",
    "            print(f\"A faixa etária de {faixa_etaria} é acima de 65 anos, nessa pesquisa foram entrevistados \\033[1m{frequencia}\\033[0m indivíduos.\")\n",
    "    print(\"-----------------------------\")\n",
    "\n",
    "# Exemplo de uso:\n",
    "# Supondo que frequencia_faixa_etaria é o DataFrame retornado pela função contar_frequencia_faixa_etaria\n",
    "print_frequencia_faixa_etaria(frequencia_faixa_etaria)\n"
   ]
  },
  {
   "cell_type": "code",
   "execution_count": 16,
   "metadata": {},
   "outputs": [
    {
     "data": {
      "text/plain": [
       "<Figure size 1200x800 with 0 Axes>"
      ]
     },
     "metadata": {},
     "output_type": "display_data"
    },
    {
     "data": {
      "image/png": "[encoded data removed]",
      "text/plain": [
       "<Figure size 640x480 with 1 Axes>"
      ]
     },
     "metadata": {},
     "output_type": "display_data"
    }
   ],
   "source": [
    "def plotar_grafico_barras(frequencia_faixa_etaria):\n",
    "    plt.figure(figsize=(12, 8))\n",
    "    ax = frequencia_faixa_etaria.plot(kind='bar', x='Faixa Etária', y='Percentual', legend=None, color='skyblue')\n",
    "    ax.set_ylabel('Percentual')\n",
    "    ax.set_xlabel('Faixa Etária')\n",
    "    ax.set_title('Percentual de Entrevistados por Faixa Etária')\n",
    "    for p in ax.patches:\n",
    "        ax.annotate(f'{p.get_height():.2f}%', (p.get_x() + p.get_width() / 2., p.get_height()),\n",
    "                    ha='center', va='center', fontsize=10, color='black', xytext=(0, 5),\n",
    "                    textcoords='offset points')\n",
    "    plt.xticks(rotation=45)\n",
    "    plt.tight_layout()\n",
    "    plt.show()\n",
    "\n",
    "plotar_grafico_barras(frequencia_faixa_etaria)\n"
   ]
  },
  {
   "cell_type": "code",
   "execution_count": 17,
   "metadata": {},
   "outputs": [
    {
     "data": {
      "text/html": [
       "<div>\n",
       "<style scoped>\n",
       "    .dataframe tbody tr th:only-of-type {\n",
       "        vertical-align: middle;\n",
       "    }\n",
       "\n",
       "    .dataframe tbody tr th {\n",
       "        vertical-align: top;\n",
       "    }\n",
       "\n",
       "    .dataframe thead th {\n",
       "        text-align: right;\n",
       "    }\n",
       "</style>\n",
       "<table border=\"1\" class=\"dataframe\">\n",
       "  <thead>\n",
       "    <tr style=\"text-align: right;\">\n",
       "      <th></th>\n",
       "      <th>UF</th>\n",
       "      <th>Sexo</th>\n",
       "      <th>Idade</th>\n",
       "      <th>Cor</th>\n",
       "      <th>Anos de Estudo</th>\n",
       "      <th>Renda</th>\n",
       "      <th>Altura</th>\n",
       "      <th>Classe</th>\n",
       "      <th>Escolaridade</th>\n",
       "    </tr>\n",
       "  </thead>\n",
       "  <tbody>\n",
       "    <tr>\n",
       "      <th>0</th>\n",
       "      <td>11</td>\n",
       "      <td>0</td>\n",
       "      <td>23</td>\n",
       "      <td>8</td>\n",
       "      <td>12</td>\n",
       "      <td>800</td>\n",
       "      <td>1.603808</td>\n",
       "      <td>F</td>\n",
       "      <td>Ensino médio completo</td>\n",
       "    </tr>\n",
       "    <tr>\n",
       "      <th>1</th>\n",
       "      <td>11</td>\n",
       "      <td>1</td>\n",
       "      <td>23</td>\n",
       "      <td>2</td>\n",
       "      <td>12</td>\n",
       "      <td>1150</td>\n",
       "      <td>1.739790</td>\n",
       "      <td>F</td>\n",
       "      <td>Ensino médio completo</td>\n",
       "    </tr>\n",
       "    <tr>\n",
       "      <th>2</th>\n",
       "      <td>11</td>\n",
       "      <td>1</td>\n",
       "      <td>35</td>\n",
       "      <td>8</td>\n",
       "      <td>15</td>\n",
       "      <td>880</td>\n",
       "      <td>1.760444</td>\n",
       "      <td>F</td>\n",
       "      <td>Ensino superior incompleto</td>\n",
       "    </tr>\n",
       "    <tr>\n",
       "      <th>3</th>\n",
       "      <td>11</td>\n",
       "      <td>0</td>\n",
       "      <td>46</td>\n",
       "      <td>2</td>\n",
       "      <td>6</td>\n",
       "      <td>3500</td>\n",
       "      <td>1.783158</td>\n",
       "      <td>E</td>\n",
       "      <td>Ensino fundamental incompleto</td>\n",
       "    </tr>\n",
       "    <tr>\n",
       "      <th>4</th>\n",
       "      <td>11</td>\n",
       "      <td>1</td>\n",
       "      <td>47</td>\n",
       "      <td>8</td>\n",
       "      <td>9</td>\n",
       "      <td>150</td>\n",
       "      <td>1.690631</td>\n",
       "      <td>G</td>\n",
       "      <td>Ensino fundamental completo</td>\n",
       "    </tr>\n",
       "    <tr>\n",
       "      <th>...</th>\n",
       "      <td>...</td>\n",
       "      <td>...</td>\n",
       "      <td>...</td>\n",
       "      <td>...</td>\n",
       "      <td>...</td>\n",
       "      <td>...</td>\n",
       "      <td>...</td>\n",
       "      <td>...</td>\n",
       "      <td>...</td>\n",
       "    </tr>\n",
       "    <tr>\n",
       "      <th>76835</th>\n",
       "      <td>53</td>\n",
       "      <td>1</td>\n",
       "      <td>46</td>\n",
       "      <td>2</td>\n",
       "      <td>11</td>\n",
       "      <td>812</td>\n",
       "      <td>1.687030</td>\n",
       "      <td>F</td>\n",
       "      <td>Ensino médio incompleto</td>\n",
       "    </tr>\n",
       "    <tr>\n",
       "      <th>76836</th>\n",
       "      <td>53</td>\n",
       "      <td>0</td>\n",
       "      <td>30</td>\n",
       "      <td>4</td>\n",
       "      <td>7</td>\n",
       "      <td>1500</td>\n",
       "      <td>1.792934</td>\n",
       "      <td>F</td>\n",
       "      <td>Ensino fundamental incompleto</td>\n",
       "    </tr>\n",
       "    <tr>\n",
       "      <th>76837</th>\n",
       "      <td>53</td>\n",
       "      <td>0</td>\n",
       "      <td>32</td>\n",
       "      <td>8</td>\n",
       "      <td>12</td>\n",
       "      <td>1300</td>\n",
       "      <td>1.830587</td>\n",
       "      <td>F</td>\n",
       "      <td>Ensino médio completo</td>\n",
       "    </tr>\n",
       "    <tr>\n",
       "      <th>76838</th>\n",
       "      <td>53</td>\n",
       "      <td>0</td>\n",
       "      <td>57</td>\n",
       "      <td>8</td>\n",
       "      <td>4</td>\n",
       "      <td>1500</td>\n",
       "      <td>1.726344</td>\n",
       "      <td>F</td>\n",
       "      <td>Ensino fundamental incompleto</td>\n",
       "    </tr>\n",
       "    <tr>\n",
       "      <th>76839</th>\n",
       "      <td>53</td>\n",
       "      <td>0</td>\n",
       "      <td>38</td>\n",
       "      <td>8</td>\n",
       "      <td>4</td>\n",
       "      <td>900</td>\n",
       "      <td>1.658305</td>\n",
       "      <td>F</td>\n",
       "      <td>Ensino fundamental incompleto</td>\n",
       "    </tr>\n",
       "  </tbody>\n",
       "</table>\n",
       "<p>76840 rows × 9 columns</p>\n",
       "</div>"
      ],
      "text/plain": [
       "       UF  Sexo  Idade  Cor  Anos de Estudo  Renda    Altura Classe  \\\n",
       "0      11     0     23    8              12    800  1.603808      F   \n",
       "1      11     1     23    2              12   1150  1.739790      F   \n",
       "2      11     1     35    8              15    880  1.760444      F   \n",
       "3      11     0     46    2               6   3500  1.783158      E   \n",
       "4      11     1     47    8               9    150  1.690631      G   \n",
       "...    ..   ...    ...  ...             ...    ...       ...    ...   \n",
       "76835  53     1     46    2              11    812  1.687030      F   \n",
       "76836  53     0     30    4               7   1500  1.792934      F   \n",
       "76837  53     0     32    8              12   1300  1.830587      F   \n",
       "76838  53     0     57    8               4   1500  1.726344      F   \n",
       "76839  53     0     38    8               4    900  1.658305      F   \n",
       "\n",
       "                        Escolaridade  \n",
       "0              Ensino médio completo  \n",
       "1              Ensino médio completo  \n",
       "2         Ensino superior incompleto  \n",
       "3      Ensino fundamental incompleto  \n",
       "4        Ensino fundamental completo  \n",
       "...                              ...  \n",
       "76835        Ensino médio incompleto  \n",
       "76836  Ensino fundamental incompleto  \n",
       "76837          Ensino médio completo  \n",
       "76838  Ensino fundamental incompleto  \n",
       "76839  Ensino fundamental incompleto  \n",
       "\n",
       "[76840 rows x 9 columns]"
      ]
     },
     "execution_count": 17,
     "metadata": {},
     "output_type": "execute_result"
    }
   ],
   "source": [
    "def classificacao_de_escolaridade(anos):\n",
    "    if anos < 9:\n",
    "        return \"Ensino fundamental incompleto\"\n",
    "    elif anos == 9:\n",
    "        return \"Ensino fundamental completo\"\n",
    "    elif anos >= 10 and anos <= 11:\n",
    "        return \"Ensino médio incompleto\"\n",
    "    elif anos == 12:\n",
    "        return \"Ensino médio completo\"\n",
    "    elif anos >= 13 and anos <= 15:\n",
    "        return \"Ensino superior incompleto\"\n",
    "    elif anos == 16:\n",
    "        return \"Ensino superior completo\"\n",
    "    else:\n",
    "        return \"Especializações\"\n",
    "\n",
    "# Aplicando a função ao dataframe df\n",
    "df['Escolaridade'] = df['Anos de Estudo'].apply(classificacao_de_escolaridade)\n",
    "\n",
    "# Exibindo o dataframe com a nova coluna\n",
    "df\n"
   ]
  },
  {
   "cell_type": "code",
   "execution_count": 18,
   "metadata": {},
   "outputs": [
    {
     "name": "stdout",
     "output_type": "stream",
     "text": [
      "                               Frequência  Percentual\n",
      "Escolaridade                                         \n",
      "Ensino fundamental incompleto       28591       37.21\n",
      "Ensino médio completo               20848       27.13\n",
      "Ensino superior completo            10795       14.05\n",
      "Ensino fundamental completo          7980       10.39\n",
      "Ensino superior incompleto           4477        5.83\n",
      "Ensino médio incompleto              3958        5.15\n",
      "Especializações                       191        0.25\n"
     ]
    }
   ],
   "source": [
    "# Calculando a frequência de cada classe de estudo\n",
    "frequencia = df['Escolaridade'].value_counts()\n",
    "\n",
    "# Calculando o percentual para cada classe de estudo\n",
    "percentual = (frequencia / len(df)) * 100\n",
    "percentual = percentual.round(2)  # Arredondando para 2 casas decimais\n",
    "\n",
    "# Criando um novo dataframe para armazenar as frequências e percentuais\n",
    "df_freq_percent = pd.DataFrame({'Frequência': frequencia, 'Percentual': percentual})\n",
    "\n",
    "# Exibindo o dataframe com as frequências e percentuais\n",
    "print(df_freq_percent)\n"
   ]
  },
  {
   "cell_type": "code",
   "execution_count": 19,
   "metadata": {},
   "outputs": [
    {
     "name": "stderr",
     "output_type": "stream",
     "text": [
      "/tmp/ipykernel_14677/7097824.py:11: FutureWarning: Series.__getitem__ treating keys as positions is deprecated. In a future version, integer keys will always be treated as labels (consistent with DataFrame behavior). To access a value by position, use `ser.iloc[pos]`\n",
      "  plt.text(bar.get_x() + bar.get_width()/2, yval, f'{df_freq_percent_sorted[\"Percentual\"][i]:.2f}%', ha='center', va='bottom')\n"
     ]
    },
    {
     "data": {
      "image/png": "[encoded data removed]",
      "text/plain": [
       "<Figure size 1000x600 with 1 Axes>"
      ]
     },
     "metadata": {},
     "output_type": "display_data"
    }
   ],
   "source": [
    "# Ordenando as classes de escolaridade pelo percentual em ordem decrescente\n",
    "df_freq_percent_sorted = df_freq_percent.sort_values(by='Percentual', ascending=False)\n",
    "\n",
    "# Plotando o histograma\n",
    "plt.figure(figsize=(10, 6))\n",
    "bars = plt.bar(df_freq_percent_sorted.index, df_freq_percent_sorted['Frequência'], color='skyblue')\n",
    "\n",
    "# Adicionando o percentual em cima de cada barra\n",
    "for i, bar in enumerate(bars):\n",
    "    yval = bar.get_height()\n",
    "    plt.text(bar.get_x() + bar.get_width()/2, yval, f'{df_freq_percent_sorted[\"Percentual\"][i]:.2f}%', ha='center', va='bottom')\n",
    "\n",
    "plt.xlabel('Escolaridade')\n",
    "plt.ylabel('Frequência')\n",
    "plt.title('Histograma de Escolaridade')\n",
    "plt.xticks(rotation=45, ha='right')\n",
    "plt.tight_layout()\n",
    "plt.show()\n"
   ]
  },
  {
   "cell_type": "markdown",
   "metadata": {
    "colab_type": "text",
    "id": "Aoeayf6zTg2P"
   },
   "source": [
    "## Realize, para a variável RENDA, uma análise descritiva com as ferramentas que aprendemos em nosso treinamento"
   ]
  },
  {
   "cell_type": "markdown",
   "metadata": {
    "colab_type": "text",
    "id": "c2CtT71oTg2P"
   },
   "source": [
    "### Obtenha a média aritimética"
   ]
  },
  {
   "cell_type": "code",
   "execution_count": null,
   "metadata": {
    "colab": {},
    "colab_type": "code",
    "id": "qlJESCU6Tg2P"
   },
   "outputs": [],
   "source": []
  },
  {
   "cell_type": "markdown",
   "metadata": {
    "colab_type": "text",
    "id": "Xd4saPBCTg2R"
   },
   "source": [
    "### Obtenha a mediana"
   ]
  },
  {
   "cell_type": "code",
   "execution_count": null,
   "metadata": {
    "colab": {},
    "colab_type": "code",
    "id": "vHTqX-UATg2R"
   },
   "outputs": [],
   "source": []
  },
  {
   "cell_type": "markdown",
   "metadata": {
    "colab_type": "text",
    "id": "_e40rDSwTg2U"
   },
   "source": [
    "### Obtenha a moda"
   ]
  },
  {
   "cell_type": "code",
   "execution_count": null,
   "metadata": {
    "colab": {},
    "colab_type": "code",
    "id": "BFOOdYOvTg2V"
   },
   "outputs": [],
   "source": []
  },
  {
   "cell_type": "markdown",
   "metadata": {
    "colab_type": "text",
    "id": "Rnr1gOCMTg2X"
   },
   "source": [
    "### Obtenha o desvio médio absoluto"
   ]
  },
  {
   "cell_type": "code",
   "execution_count": null,
   "metadata": {
    "colab": {},
    "colab_type": "code",
    "id": "TmE_1QDGTg2Y"
   },
   "outputs": [],
   "source": []
  },
  {
   "cell_type": "markdown",
   "metadata": {
    "colab_type": "text",
    "id": "hCgV_XaQTg2Z"
   },
   "source": [
    "### Obtenha a variância"
   ]
  },
  {
   "cell_type": "code",
   "execution_count": null,
   "metadata": {
    "colab": {},
    "colab_type": "code",
    "id": "SwRgACeGTg2a"
   },
   "outputs": [],
   "source": []
  },
  {
   "cell_type": "markdown",
   "metadata": {
    "colab_type": "text",
    "id": "gsO6MKOcTg2c"
   },
   "source": [
    "### Obtenha o desvio-padrão"
   ]
  },
  {
   "cell_type": "code",
   "execution_count": null,
   "metadata": {
    "colab": {},
    "colab_type": "code",
    "id": "gR-LVTRYTg2d"
   },
   "outputs": [],
   "source": []
  },
  {
   "cell_type": "markdown",
   "metadata": {
    "colab_type": "text",
    "id": "vG-rdO5fTg2f"
   },
   "source": [
    "### Obtenha a média, mediana e valor máximo da variável RENDA segundo SEXO e COR\n",
    "#### <font color='blue'>Destaque os pontos mais importante que você observa nas tabulações</font>\n",
    "#### <font color='red'>O parâmento <i>aggfunc</i> da função <i>crosstab()</i> pode receber uma lista de funções. Exemplo: <i>aggfunc = {'mean', 'median', 'max'}</i></font>"
   ]
  },
  {
   "cell_type": "code",
   "execution_count": null,
   "metadata": {
    "colab": {},
    "colab_type": "code",
    "id": "VgxygKWXTg2g"
   },
   "outputs": [],
   "source": []
  },
  {
   "cell_type": "markdown",
   "metadata": {
    "colab_type": "text",
    "id": "ibndm9iwTg2i"
   },
   "source": [
    "> ### Conclusões\n",
    "\n",
    "Escreva suas conclusões aqui..."
   ]
  },
  {
   "cell_type": "markdown",
   "metadata": {
    "colab_type": "text",
    "id": "CleJ6c1rTg2i"
   },
   "source": [
    "### Obtenha as medidas de dispersão da variável RENDA segundo SEXO e COR\n",
    "#### <font color='blue'>Destaque os pontos mais importante que você observa nas tabulações</font>\n",
    "#### <font color='red'>O parâmento <i>aggfunc</i> da função <i>crosstab()</i> pode receber uma lista de funções. Exemplo: <i>aggfunc = {'mad', 'var', 'std'}</i></font>"
   ]
  },
  {
   "cell_type": "code",
   "execution_count": null,
   "metadata": {
    "colab": {},
    "colab_type": "code",
    "id": "bNv-eWZ3Tg2j"
   },
   "outputs": [],
   "source": []
  },
  {
   "cell_type": "markdown",
   "metadata": {
    "colab_type": "text",
    "id": "57aHvJMSTg2l"
   },
   "source": [
    "> ### Conclusões\n",
    "\n",
    "Escreva suas conclusões aqui..."
   ]
  },
  {
   "cell_type": "markdown",
   "metadata": {
    "colab_type": "text",
    "id": "QSYjkdyOTg2l"
   },
   "source": [
    "### Construa um box plot da variável RENDA segundo SEXO e COR\n",
    "#### <font color='blue'>É possível verificar algum comportamento diferenciado no rendimento entre os grupos de pessoas analisados? Avalie o gráfico e destaque os pontos mais importantes.</font>\n",
    "#### <font color='red'>1º - Utilize somente as informações de pessoas com renda abaixo de R$ 10.000</font>\n",
    "#### <font color='red'>2º - Para incluir uma terceira variável na construção de um boxplot utilize o parâmetro <i>hue</i> e indique a variável que quer incluir na subdivisão.</font>\n",
    "#### Mais informações: https://seaborn.pydata.org/generated/seaborn.boxplot.html"
   ]
  },
  {
   "cell_type": "code",
   "execution_count": null,
   "metadata": {
    "colab": {},
    "colab_type": "code",
    "id": "8hGa4SMRTg2m"
   },
   "outputs": [],
   "source": []
  },
  {
   "cell_type": "markdown",
   "metadata": {
    "colab_type": "text",
    "id": "ROiIQRFhTg2o"
   },
   "source": [
    "> ### Conclusões\n",
    "\n",
    "Escreva suas conclusões aqui..."
   ]
  },
  {
   "cell_type": "markdown",
   "metadata": {
    "colab_type": "text",
    "id": "zi4BaGooTg2o"
   },
   "source": [
    "# <font color=\"red\">DESAFIO<font>\n",
    "### Qual percentual de pessoas de nosso <i>dataset</i> ganham um salário mínimo (R$ 788,00) ou menos?\n",
    "#### <font color='red'>Utilize a função <i>percentileofscore()</i> do <i>scipy</i> para realizar estas análises.</font>\n",
    "#### Mais informações: https://docs.scipy.org/doc/scipy/reference/generated/scipy.stats.percentileofscore.html\n"
   ]
  },
  {
   "cell_type": "code",
   "execution_count": 20,
   "metadata": {
    "colab": {},
    "colab_type": "code",
    "id": "9DwXo2yITg2p"
   },
   "outputs": [],
   "source": [
    "from scipy import stats\n",
    "\n"
   ]
  },
  {
   "cell_type": "markdown",
   "metadata": {
    "colab_type": "text",
    "id": "bl0fOMuKTg2q"
   },
   "source": [
    "### Qual o valor máximo ganho por 99% das pessoas de nosso <i>dataset</i>?\n",
    "#### <font color='red'>Utilize o método <i>quantile()</i> do <i>pandas</i> para realizar estas análises.</font>"
   ]
  },
  {
   "cell_type": "code",
   "execution_count": null,
   "metadata": {
    "colab": {},
    "colab_type": "code",
    "id": "cIVwy8bKTg2q"
   },
   "outputs": [],
   "source": []
  },
  {
   "cell_type": "markdown",
   "metadata": {
    "colab_type": "text",
    "id": "zeRhvtngTg2r"
   },
   "source": [
    "### Obtenha a média, mediana, valor máximo e desvio-padrão da variável RENDA segundo ANOS DE ESTUDO e SEXO\n",
    "#### <font color='blue'>Destaque os pontos mais importante que você observa nas tabulações</font>\n",
    "#### <font color='red'>O parâmento <i>aggfunc</i> da função <i>crosstab()</i> pode receber uma lista de funções. Exemplo: <i>aggfunc = ['mean', 'median', 'max', 'std']</i></font>"
   ]
  },
  {
   "cell_type": "code",
   "execution_count": null,
   "metadata": {
    "colab": {},
    "colab_type": "code",
    "id": "8nxGdQIpTg2s"
   },
   "outputs": [],
   "source": []
  },
  {
   "cell_type": "markdown",
   "metadata": {
    "colab_type": "text",
    "id": "1Rm1n7a_Tg2u"
   },
   "source": [
    "### Construa um box plot da variável RENDA segundo ANOS DE ESTUDO e SEXO\n",
    "#### <font color='blue'>É possível verificar algum comportamento diferenciado no rendimento entre os grupos de pessoas analisados? Avalie o gráfico e destaque os pontos mais importantes.</font>\n",
    "#### <font color='red'>1º - Utilize somente as informações de pessoas com renda abaixo de R$ 10.000</font>\n",
    "#### <font color='red'>2º - Utilize a variável IDADE para identificar se a desigualdade se verifica para pessoas de mesma idade. Exemplo: <i>data=dados.query('Renda < 10000 and Idade == 40')</i> ou <i>data=dados.query('Renda < 10000 and Idade == 50')</i></font>\n",
    "#### <font color='red'>3º - Para incluir uma terceira variável na construção de um boxplot utilize o parâmetro <i>hue</i> e indique a variável que quer incluir na subdivisão.</font>\n",
    "#### Mais informações: https://seaborn.pydata.org/generated/seaborn.boxplot.html"
   ]
  },
  {
   "cell_type": "code",
   "execution_count": null,
   "metadata": {
    "colab": {},
    "colab_type": "code",
    "id": "rgMU0WyJTg2v"
   },
   "outputs": [],
   "source": []
  },
  {
   "cell_type": "markdown",
   "metadata": {
    "colab_type": "text",
    "id": "LrEECOmNTg2w"
   },
   "source": [
    "> ### Conclusões\n",
    "\n",
    "Escreva suas conclusões aqui..."
   ]
  },
  {
   "cell_type": "markdown",
   "metadata": {
    "colab_type": "text",
    "id": "0fIFSxj8Tg2x"
   },
   "source": [
    "### Obtenha a média, mediana, valor máximo e desvio-padrão da variável RENDA segundo as UNIDADES DA FEDERAÇÃO\n",
    "#### <font color='blue'>Destaque os pontos mais importante que você observa nas tabulações</font>\n",
    "#### <font color='red'>Utilize o método <i>groupby()</i> do <i>pandas</i> juntamente com o método <i>agg()</i> para contruir a tabulação. O método <i>agg()</i> pode receber um dicionário especificando qual coluna do DataFrame deve ser utilizada e qual lista de funções estatísticas queremos obter, por exemplo: <i>dados.groupby(['UF']).agg({'Renda': ['mean', 'median', 'max', 'std']})</i></font>"
   ]
  },
  {
   "cell_type": "code",
   "execution_count": null,
   "metadata": {
    "colab": {},
    "colab_type": "code",
    "id": "91IxQFJoTg2x"
   },
   "outputs": [],
   "source": []
  },
  {
   "cell_type": "markdown",
   "metadata": {
    "colab_type": "text",
    "id": "6NfAKimkTg2y"
   },
   "source": [
    "### Construa um box plot da variável RENDA segundo as UNIDADES DA FEDERAÇÃO\n",
    "#### <font color='blue'>É possível verificar algum comportamento diferenciado no rendimento entre os grupos analisados? Avalie o gráfico e destaque os pontos mais importantes.</font>\n",
    "#### <font color='red'>1º - Utilize somente as informações de pessoas com renda abaixo de R$ 10.000</font>"
   ]
  },
  {
   "cell_type": "code",
   "execution_count": null,
   "metadata": {
    "colab": {},
    "colab_type": "code",
    "id": "XdEGG3blTg2z"
   },
   "outputs": [],
   "source": []
  },
  {
   "cell_type": "markdown",
   "metadata": {
    "colab_type": "text",
    "id": "7ssOt3MRTg22"
   },
   "source": [
    "> ### Conclusões\n",
    "\n",
    "Escreva suas conclusões aqui..."
   ]
  }
 ],
 "metadata": {
  "colab": {
   "name": "Análise_Descritiva.ipynb",
   "provenance": [],
   "toc_visible": true,
   "version": "0.3.2"
  },
  "kernelspec": {
   "display_name": "Python 3",
   "language": "python",
   "name": "python3"
  },
  "language_info": {
   "codemirror_mode": {
    "name": "ipython",
    "version": 3
   },
   "file_extension": ".py",
   "mimetype": "text/x-python",
   "name": "python",
   "nbconvert_exporter": "python",
   "pygments_lexer": "ipython3",
   "version": "3.10.12"
  }
 },
 "nbformat": 4,
 "nbformat_minor": 1
}
