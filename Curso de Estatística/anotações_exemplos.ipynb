{
 "cells": [
  {
   "cell_type": "markdown",
   "metadata": {},
   "source": [
    "\"De modo bem geral, podemos dizer que a essência da **Ciência** é a **observação** e que seu objetivo básico é a inferência.\n",
    "\n",
    "A inferência estatística é uma das partes da **Estatística**. Esta, por sua vez, é a parte da metodologia da Ciência que tem por objetivo a coleta, redução, análise e modelagem dos dados, a partir do que, finalmente, faz-se a inferência para uma população da qual os dados (a amostra) foram obtidos. Um aspecto importante da modelagem dos dados é fazer previsões, a partir das quais se pode tomar decisões.\n",
    "\n",
    "Os cientistas usam o chamado **Método Científico** para testar suas teorias ou hipóteses. Podemos resumir o método nos seguintes passos:\n",
    "\n",
    "**(i)\tO cientista formula uma questão, problema ou teoria. Ele pode querer, também, testar alguma hipótese.**\n",
    "\n",
    "**(ii) Para responder a essas questões, ele coleta informação que seja relevante. Para isso, ele pode planejar algum experimento. Em determinadas áreas (Astronomia, por exemplo), o planejamento de experimentos não é possível (ou factível); o que se pode fazer é observar algum fenômeno ou variáveis de interesse.**\n",
    "\n",
    "**(iii) Os resultados do passo (ii) são usados para obter conclusões, mesmo que não definitivas.**\n",
    "\n",
    "**(iv) Se for necessário, repita os passos (ii) e (iii), ou mesmo reformule suas hipóteses.**\n",
    "\n",
    "Um estatístico pode ajudar no passo (i) e certamente pode ser indispensável nos passos (ii) e (iii). Vamos considerar um exemplo para ilustrar o método. \"\n",
    "\n",
    "#### *Morettin, P. A., & Bussab, W.D. O. (2017). Estatística básica (9th ed.). Editora Saraiva. Encontrado no [Minha biblioteca](https://integrada.minhabiblioteca.com.br/books/9788547220228) Capítulo 1: pag 1*"
   ]
  },
  {
   "cell_type": "markdown",
   "metadata": {},
   "source": [
    "                   ChatGPT. 2024. Discussão sobre Métodos Paramétricos e Não Paramétricos.\n",
    "\n",
    "Em estatísticas, métodos paramétricos e não paramétricos são abordagens distintas para realizar análises estatísticas, dependendo das características dos dados disponíveis.\n",
    "\n",
    "1. **Métodos Paramétricos:**\n",
    "   - **Definição:** Estes métodos assumem que os dados seguem uma distribuição específica, geralmente uma distribuição normal.\n",
    "   - **Exemplo:** Testes t-paramétricos, como o teste t de Student para comparação de médias, ou análises de variância (ANOVA), pressupõem normalidade dos dados.\n",
    "   - **Requisitos:** Requerem conhecimento prévio sobre a distribuição subjacente dos dados.\n",
    "\n",
    "2. **Métodos Não Paramétricos:**\n",
    "   - **Definição:** Esses métodos são mais flexíveis quanto à distribuição dos dados, não fazendo suposições específicas sobre ela.\n",
    "   - **Exemplo:** Testes de Wilcoxon-Mann-Whitney para comparação de medianas ou o teste de Kruskal-Wallis para comparação de mais de dois grupos.\n",
    "   - **Requisitos:** Não exigem pressupostos rigorosos sobre a distribuição dos dados.\n",
    "\n",
    "**Escolha entre Paramétrico e Não Paramétrico:**\n",
    "A escolha entre métodos paramétricos e não paramétricos depende da natureza dos dados disponíveis e da confiança nas suposições sobre sua distribuição. Se os dados atendem aos pressupostos paramétricos, os métodos paramétricos podem ser mais poderosos. Caso contrário, os métodos não paramétricos são uma opção mais segura.\n",
    "\n"
   ]
  },
  {
   "cell_type": "markdown",
   "metadata": {},
   "source": [
    "Tradicionalmente, uma análise descritiva de dados limita-se a calcular algumas medidas de posição e variabilidade, como a média e variância, por exemplo. Contrária a esta tendência, uma corrente mais moderna, liderada por Tukey (1977), utiliza prin- cipalmente técnicas gráficas, em oposição a resumos numéricos. Isto não significa\n",
    "\n",
    "#### *Morettin, P. A., & Bussab, W.D. O. (2017). Estatística básica (9th ed.). Editora Saraiva. Encontrado no [Minha biblioteca](https://integrada.minhabiblioteca.com.br/books/9788547220228) Capítulo 1: pag 3*"
   ]
  },
  {
   "cell_type": "markdown",
   "metadata": {},
   "source": [
    "IMAGINE A RELAÇÃO ENTRE CONSUMO E RENDIMENTOS, DADO PELA FUNÇÃO:\n",
    "\n",
    "                                 C = f(Y)\n",
    "\n",
    "O gasto com o consumo de pessoas (vamos indicar essa variável por C) é uma função da renda pessoal disponível (indicada por Y). O diagrama abaixo mostra em background a regressão linear a partir dessa função\n",
    "\n",
    "![Relação entre dado, modelo e resíduo](relacao_entre_dado_modelo_e_residuo.png)\n",
    "\n",
    "#### DADOS = MODELO + RESÍDUOS\n",
    "\n",
    "                                 D = M + R\n",
    "\n",
    "\"A parte M é também chamada parte suave (ou regular ou, ainda, previsível) dos dados, enquanto R é a parte aleatória. A parte R é tão importante quanto M, e a análise dos resíduos constitui uma parte fundamental de todo trabalho estatístico. Basicamente, são os resíduos que nos dizem se o modelo é adequado ou não para representar os dados. De modo coloquial, **o que se deseja é que a parte R não contenha nenhuma “suavidade”, caso contrário mais “suavização” é necessária.**\"\n",
    "\n",
    "\n",
    "#### _Morettin, P. A., & Bussab, W.D. O. (2017). Estatística básica (9th ed.). Editora Saraiva. Encontrado no [Minha biblioteca](https://integrada.minhabiblioteca.com.br/books/9788547220228) Capítulo 1: pag 4_\n"
   ]
  },
  {
   "cell_type": "code",
   "execution_count": null,
   "metadata": {},
   "outputs": [],
   "source": []
  },
  {
   "cell_type": "code",
   "execution_count": null,
   "metadata": {},
   "outputs": [],
   "source": []
  }
 ],
 "metadata": {
  "language_info": {
   "name": "python"
  }
 },
 "nbformat": 4,
 "nbformat_minor": 2
}
