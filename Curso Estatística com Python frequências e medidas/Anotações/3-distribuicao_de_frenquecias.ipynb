{
 "cells": [
  {
   "cell_type": "markdown",
   "metadata": {},
   "source": [
    "### Revisão tipos de variáveis em estatística\n",
    "\n",
    "**Variáveis Qualitativas:**\n",
    "1. **Nominais:**\n",
    "   - Exemplo: Região de Procedência.\n",
    "\n",
    "2. **Ordinais:**\n",
    "   - Exemplo: Grau de instrução (Ensino Fundamental, Médio, Superior), Classe social (Alta, Média, Baixa).\n",
    "\n",
    "**Variáveis Quantitativas:**\n",
    "1. **Discretas:**\n",
    "   - Exemplo: Número de filhos (0, 1, 2, ...).\n",
    "\n",
    "2. **Contínuas:**\n",
    "   - Exemplo: Estatura e peso (massa) de um indivíduo.\n",
    "\n",
    "**Explicação sobre Tipos de Variáveis Quantitativas:**\n",
    "- *Discretas:* Valores formam um conjunto finito ou enumerável, frequentemente resultantes de uma contagem.\n",
    "  \n",
    "- *Contínuas:* Valores pertencem a um intervalo de números reais, resultantes de mensuração.\n"
   ]
  },
  {
   "cell_type": "markdown",
   "metadata": {},
   "source": [
    "## Distribuições de Frequências\n",
    "\n",
    "Uma distribuição de frequências pode ser apresentada por meio de tabelas que, por sua vez, podem ser representadas por meio de gráficos.\n",
    "\n",
    "Definições:\n",
    "\n",
    "**Dados Brutos:** Conjunto de dados que ainda não foram numericamente organizados, obtidos após a crítica dos valores.\n",
    "\n",
    "**Rol:** É um arranjo dos dados brutos em ordem crescente.\n",
    "\n",
    "**Frequência absoluta simples (fi):** É o número de observações que se encontra presente em uma classe ou intervalo específico.\n",
    "\n",
    "**Frequência relativa (percentual) (fr):** Representa o percentual de um certo valor na amostra. É calculada da seguinte forma:\n",
    "\n",
    "![calculo_de_frequencia_relativa.png](calculo_de_frequencia_relativa.png)\n",
    "\n",
    "**Frequência acumulada (f ac):** É a soma das frequências simples das classes ou dos valores anteriores.\n",
    "\n",
    "**Frequência percentual acumulada (f ra):** É a soma das frequências relativas percentuais das classes ou dos valores.\n",
    "\n",
    "**Densidade:**\n",
    "\n",
    "Refere-se à medida da concentração de dados em cada classe de um histograma.\n",
    "É calculada como a razão entre a frequência relativa da classe (fi) e a amplitude do intervalo da classe (Di).\n",
    "Em termos simples, a densidade de frequência da i-ésima classe é representada por fi/Di (ou ni/Di), onde fi é a frequência relativa da classe e Di é a amplitude do intervalo. Quanto mais dados estiverem presentes em cada classe, maior será a densidade, refletindo a concentração dos dados nessa faixa específica.\n"
   ]
  },
  {
   "cell_type": "markdown",
   "metadata": {},
   "source": [
    "| Termo              | Definição                                                                                   | Sinônimo                        |\n",
    "|--------------------|-----------------------------------------------------------------------------------------------|---------------------------------|\n",
    "| Média              | A soma de todos os valores, dividida pelo número de valores.                                 | Média aritmética simples        |\n",
    "| Média ponderada    | A soma de todos os valores, multiplicada por um peso e dividida pela soma dos pesos.           | Média aritmética ponderada      |\n",
    "| Mediana            | O valor que ocupa a posição central dos dados.                                               | 50° percentil                   |\n",
    "| Mediana ponderada  | Valor cuja posição está no centro da soma dos pesos, estando metade da soma antes e metade depois desse dado. | -                             |\n",
    "| Média aparada      | A média de todos os valores depois da exclusão de um número fixo de valores extremos.        | Média truncada                 |\n",
    "| Robusto            | Não sensível a valores extremos.                                                             | Resistente                     |\n",
    "| Outlier            | Um valor de dados que é muito diferente da maioria dos dados.                                | Valor extremo                  |\n"
   ]
  },
  {
   "cell_type": "markdown",
   "metadata": {},
   "source": [
    "1.  **Média:**\n",
    "    A média aritmética é uma medida de posição central obtida pela soma de todas as observações dividida pelo número total delas. No exemplo dado, a média aritmética da variável Z, representando o número de filhos de cada funcionário casado, é calculada como:\n",
    "\n",
    "        (3 + 4 + 7 + 8 + 8) / 5 = 6.\n",
    "\n",
    "    Se x1, ..., xn são os n valores (distintos ou não) da variável X, a média aritmética, ou simplesmente média, de X pode ser escrita:\n",
    "\n",
    "    ![media_aritimetica.png](media_aritimetica.png)\n",
    "\n",
    "    Se tivermos n observações da variável X, das quais n1 são iguais a x1, n2 são iguais a x2 etc., nk iguais a xk, então a média de X pode ser escrita:\n",
    "\n",
    "    ![media_aritimetica_2.png](media_aritimetica_2.png)\n",
    "\n",
    "2.  **Mediana:**\n",
    "    A mediana é a observação que ocupa a posição central quando as observações são ordenadas em ordem crescente. Se o número de observações for ímpar, a mediana é a observação central. Se for par, a mediana é a média aritmética das duas observações centrais. Por exemplo:\n",
    "\n",
    "        No conjunto ordenado (3, 4, 7, 8, 8), a mediana é 7, já que é a terceira observação. Se adicionarmos o valor 9 à série, a mediana será a média aritmética de 7 e 8, ou seja, 7,5.\n",
    "\n",
    "    As observações ordenadas são chamadas estatísticas de ordem. Com essa notação, a mediana da variável X pode ser definida como:\n",
    "\n",
    "    ![mediana.png](mediana.png)\n",
    "\n",
    "3.  **Moda:**\n",
    "    A moda é a realização mais frequente do conjunto de valores observados.\n",
    "    Exemplo de conjunto de números para moda:\n",
    "\n",
    "         [5,8,10,12,10,8,15,10]\n",
    "\n",
    "         Neste conjunto, a moda é **10**, pois é o número que aparece mais vezes (três vezes).\n",
    "\n",
    "    É mencionado que em alguns casos pode haver mais de uma moda, indicando distribuições bimodais, trimodais, etc.\n"
   ]
  },
  {
   "cell_type": "markdown",
   "metadata": {},
   "source": [
    "***Detecção de Anomalias***\n",
    "\n",
    "Ao contrário da análise de dados comum, em que os outliers, às vezes, são informativos e, às vezes, um empecilho, na detecção de anomalias, os pontos de interesse são os outliers, e a maior massa de dados serve principalmente para definir o “normal” contra o qual as anomalias são medidas."
   ]
  }
 ],
 "metadata": {
  "language_info": {
   "name": "python"
  }
 },
 "nbformat": 4,
 "nbformat_minor": 2
}
